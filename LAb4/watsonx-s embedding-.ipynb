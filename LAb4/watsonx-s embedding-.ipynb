{
 "cells": [
  {
   "cell_type": "markdown",
   "id": "b22ccb05-685d-4a5a-a529-d5df34f62255",
   "metadata": {},
   "source": [
    "# **Embed documents using watsonx's embedding model**\n"
   ]
  },
  {
   "cell_type": "markdown",
   "id": "264cf538-8ed4-41ce-b3ba-c64f18ad1aee",
   "metadata": {},
   "source": [
    "## Overview\n"
   ]
  },
  {
   "cell_type": "markdown",
   "id": "7a06c0a8-e34c-45d2-b11c-447ddf3bbab7",
   "metadata": {},
   "source": [
    "Imagine you work in a company that handles a vast amount of text data, including documents, emails, and reports. Your task is to build an intelligent search system that can quickly and accurately retrieve relevant documents based on user queries. Traditional keyword-based search methods often fail to understand the context and semantics of the queries, leading to poor search results.\n",
    "\n",
    "To address this challenge, you can use embedding models to convert documents into numerical vectors. These vectors capture the semantic meaning of the text, enabling more accurate and context-aware search capabilities. Document embedding is a powerful technique to convert textual data into numerical vectors, which can then be used for various downstream tasks such as search, classification, clustering, and more.\n"
   ]
  },
  {
   "cell_type": "markdown",
   "id": "0aa25c09-d25a-4423-9222-7a0ea9257b8b",
   "metadata": {},
   "source": [
    "In this lab, you will learn how to use embedding models from watsonx.ai and Hugging Face to embed documents. By the end of this lab, you will be able to effectively use these embedding models to transform and utilize textual data in your projects.\n"
   ]
  },
  {
   "cell_type": "markdown",
   "id": "2803dd51-a5a9-4dd8-940d-d367a06d3732",
   "metadata": {},
   "source": [
    "## 📘 Table of Contents\n",
    "\n",
    "1. [Objectives](#objectives)\n",
    "2. [Setup](#setup)  \n",
    "    1. [Installing required libraries](#installing-required-libraries)  \n",
    "    2. [Load data](#load-data)  \n",
    "    3. [Split data](#split-data)  \n",
    "3. [Watsonx embedding model](#watsonx-embedding-model)  \n",
    "    1. [Model description](#model-description)  \n",
    "    2. [Build model](#build-model)  \n",
    "    3. [Query embeddings](#query-embeddings)  \n",
    "    4. [Document embeddings](#document-embeddings)  \n",
    "4. [HuggingFace embedding models](#huggingface-embedding-models)  \n",
    "    1. [Model description](#model-description-1)  \n",
    "    2. [Build model](#build-model-1)  \n",
    "    3. [Query embeddings](#query-embeddings-1)  \n",
    "    4. [Document embeddings](#document-embeddings-1)  \n",
    "\n",
    "</ol>\n",
    "\n"
   ]
  },
  {
   "cell_type": "markdown",
   "id": "2d9ec495-c38f-4c1e-89f3-178f05b0ceb1",
   "metadata": {},
   "source": [
    "## Objectives\n",
    "\n",
    "After completing this lab, you will be able to:\n",
    "\n",
    " - Prepare and preprocess documents for embedding\n",
    " - Use watsonx.ai and Hugging Face embedding models to generate embeddings for your documents\n"
   ]
  },
  {
   "cell_type": "markdown",
   "id": "2aeaca2a-4e34-4506-baf5-9511344b5406",
   "metadata": {},
   "source": [
    "----\n"
   ]
  },
  {
   "cell_type": "markdown",
   "id": "ec60258a-c4a3-4992-b075-ea5764ad8697",
   "metadata": {},
   "source": [
    "## Setup\n"
   ]
  },
  {
   "cell_type": "markdown",
   "id": "c95ebf80-265e-443c-b927-94caa91afba8",
   "metadata": {},
   "source": [
    "For this lab, you will use the following libraries:\n",
    "\n",
    "* [`ibm-watson-ai`](https://ibm.github.io/watsonx-ai-python-sdk/fm_embeddings.html#EmbeddingModels) for using embedding models from IBM's watsonx.ai.\n",
    "* [`langchain`, `langchain-ibm`, `langchain-community`](https://www.langchain.com/) for using relevant features from LangChain.\n",
    "* [`sentence-transformers`](https://huggingface.co/sentence-transformers) for using embedding models from HuggingFace.\n"
   ]
  },
  {
   "cell_type": "markdown",
   "id": "f3347ef6-0935-4cd7-b8e1-2eb2bc0f4c26",
   "metadata": {},
   "source": [
    "### Installing required libraries\n",
    "\n",
    "The following required libraries are __not__ preinstalled in the Skills Network Labs environment. __You need to run the following cell__ to install them:\n",
    "\n",
    "**Note:** The version is being pinned here to specify the version. It's recommended that you do this as well. Even if the library is updated in the future, the installed library could still support this lab work.\n",
    "\n",
    "This might take around 1-2 minutes. \n",
    "\n",
    "As `%%capture` is used to capture the installation, you won't see the output process. But after the installation completes, you will see a number beside the cell.\n"
   ]
  },
  {
   "cell_type": "code",
   "execution_count": null,
   "id": "b8021d23-4e4f-4e27-90eb-069e45074ca5",
   "metadata": {},
   "outputs": [],
   "source": [
    "%%capture\n",
    "#After executing the cell,please RESTART the kernel and run all the cells.\n",
    "!pip install --user \"ibm-watsonx-ai==1.1.2\"\n",
    "!pip install --user \"langchain==0.2.11\"\n",
    "!pip install --user \"langchain-ibm==0.1.11\"\n",
    "!pip install --user \"langchain-community==0.2.10\"\n",
    "!pip install --user \"sentence-transformers==3.0.1\"\n"
   ]
  },
  {
   "cell_type": "markdown",
   "id": "56f060e1-6c4a-41cb-8be0-5179eac29ef0",
   "metadata": {},
   "source": [
    "## Load data\n"
   ]
  },
  {
   "cell_type": "markdown",
   "id": "3321788b-0bec-42e3-b529-e7c54b866c6b",
   "metadata": {},
   "source": [
    "A text file has been prepared as the source document for the downstream embedding task.\n",
    "\n",
    "Now, let's download and load it using LangChain's `TextLoader`.\n"
   ]
  },
  {
   "cell_type": "code",
   "execution_count": 2,
   "id": "cfdcd2e3-15d0-4f58-a8c2-d140743272a9",
   "metadata": {},
   "outputs": [],
   "source": [
    "\n",
    "import requests\n",
    "\n",
    "url = \"https://cf-courses-data.s3.us.cloud-object-storage.appdomain.cloud/i5V3ACEyz6hnYpVq6MTSvg/state-of-the-union.txt\"  # <-- Replace with actual URL\n",
    "response = requests.get(url)\n",
    "\n",
    "with open(\"state-of-the-union.txt\", \"w\", encoding=\"utf-8\") as f:\n",
    "    f.write(response.text)\n"
   ]
  },
  {
   "cell_type": "code",
   "execution_count": 3,
   "id": "d88a1301-3faa-4539-a6a3-c49cf2657641",
   "metadata": {},
   "outputs": [],
   "source": [
    "from langchain_community.document_loaders import TextLoader"
   ]
  },
  {
   "cell_type": "code",
   "execution_count": 5,
   "id": "645953da-c791-402e-a207-bb9b2a9ad7fb",
   "metadata": {},
   "outputs": [],
   "source": [
    "loader = TextLoader(\"state-of-the-union.txt\", encoding=\"utf-8\")\n",
    "data = loader.load()"
   ]
  },
  {
   "cell_type": "markdown",
   "id": "d538d1ed-9409-4932-96ec-ec9b3f850003",
   "metadata": {},
   "source": [
    "Let's take a look at the document.\n"
   ]
  },
  {
   "cell_type": "code",
   "execution_count": 6,
   "id": "f729a013-ccb8-4ef3-a67a-36ca7523e697",
   "metadata": {},
   "outputs": [
    {
     "data": {
      "text/plain": [
       "[Document(metadata={'source': 'state-of-the-union.txt'}, page_content='Madam Speaker, Madam Vice President, our First Lady and Second Gentleman. Members of Congress and the Cabinet. Justices of the Supreme Court. My fellow Americans.  \\n\\nLast year COVID-19 kept us apart. This year we are finally together again. \\n\\nTonight, we meet as Democrats Republicans and Independents. But most importantly as Americans. \\n\\nWith a duty to one another to the American people to the Constitution. \\n\\nAnd with an unwavering resolve that freedom will always triumph over tyranny. \\n\\nSix days ago, Russiaâ\\x80\\x99s Vladimir Putin sought to shake the foundations of the free world thinking he could make it bend to his menacing ways. But he badly miscalculated. \\n\\nHe thought he could roll into Ukraine and the world would roll over. Instead he met a wall of strength he never imagined. \\n\\nHe met the Ukrainian people. \\n\\nFrom President Zelenskyy to every Ukrainian, their fearlessness, their courage, their determination, inspires the world. \\n\\nGroups of citizens blocking tanks with their bodies. Everyone from students to retirees teachers turned soldiers defending their homeland. \\n\\nIn this struggle as President Zelenskyy said in his speech to the European Parliament â\\x80\\x9cLight will win over darkness.â\\x80\\x9d The Ukrainian Ambassador to the United States is here tonight. \\n\\nLet each of us here tonight in this Chamber send an unmistakable signal to Ukraine and to the world. \\n\\nPlease rise if you are able and show that, Yes, we the United States of America stand with the Ukrainian people. \\n\\nThroughout our history weâ\\x80\\x99ve learned this lesson when dictators do not pay a price for their aggression they cause more chaos.   \\n\\nThey keep moving.   \\n\\nAnd the costs and the threats to America and the world keep rising.   \\n\\nThatâ\\x80\\x99s why the NATO Alliance was created to secure peace and stability in Europe after World War 2. \\n\\nThe United States is a member along with 29 other nations. \\n\\nIt matters. American diplomacy matters. American resolve matters. \\n\\nPutinâ\\x80\\x99s latest attack on Ukraine was premeditated and unprovoked. \\n\\nHe rejected repeated efforts at diplomacy. \\n\\nHe thought the West and NATO wouldnâ\\x80\\x99t respond. And he thought he could divide us at home. Putin was wrong. We were ready.  Here is what we did.   \\n\\nWe prepared extensively and carefully. \\n\\nWe spent months building a coalition of other freedom-loving nations from Europe and the Americas to Asia and Africa to confront Putin. \\n\\nI spent countless hours unifying our European allies. We shared with the world in advance what we knew Putin was planning and precisely how he would try to falsely justify his aggression.  \\n\\nWe countered Russiaâ\\x80\\x99s lies with truth.   \\n\\nAnd now that he has acted the free world is holding him accountable. \\n\\nAlong with twenty-seven members of the European Union including France, Germany, Italy, as well as countries like the United Kingdom, Canada, Japan, Korea, Australia, New Zealand, and many others, even Switzerland. \\n\\nWe are inflicting pain on Russia and supporting the people of Ukraine. Putin is now isolated from the world more than ever. \\n\\nTogether with our allies â\\x80\\x93we are right now enforcing powerful economic sanctions. \\n\\nWe are cutting off Russiaâ\\x80\\x99s largest banks from the international financial system.  \\n\\nPreventing Russiaâ\\x80\\x99s central bank from defending the Russian Ruble making Putinâ\\x80\\x99s $630 Billion â\\x80\\x9cwar fundâ\\x80\\x9d worthless.   \\n\\nWe are choking off Russiaâ\\x80\\x99s access to technology that will sap its economic strength and weaken its military for years to come.  \\n\\nTonight I say to the Russian oligarchs and corrupt leaders who have bilked billions of dollars off this violent regime no more. \\n\\nThe U.S. Department of Justice is assembling a dedicated task force to go after the crimes of Russian oligarchs.  \\n\\nWe are joining with our European allies to find and seize your yachts your luxury apartments your private jets. We are coming for your ill-begotten gains. \\n\\nAnd tonight I am announcing that we will join our allies in closing off American air space to all Russian flights â\\x80\\x93 further isolating Russia â\\x80\\x93 and adding an additional squeeze â\\x80\\x93on their economy. The Ruble has lost 30% of its value. \\n\\nThe Russian stock market has lost 40% of its value and trading remains suspended. Russiaâ\\x80\\x99s economy is reeling and Putin alone is to blame. \\n\\nTogether with our allies we are providing support to the Ukrainians in their fight for freedom. Military assistance. Economic assistance. Humanitarian assistance. \\n\\nWe are giving more than $1 Billion in direct assistance to Ukraine. \\n\\nAnd we will continue to aid the Ukrainian people as they defend their country and to help ease their suffering.  \\n\\nLet me be clear, our forces are not engaged and will not engage in conflict with Russian forces in Ukraine.  \\n\\nOur forces are not going to Europe to fight in Ukraine, but to defend our NATO Allies â\\x80\\x93 in the event that Putin decides to keep moving west.  \\n\\nFor that purpose weâ\\x80\\x99ve mobilized American ground forces, air squadrons, and ship deployments to protect NATO countries including Poland, Romania, Latvia, Lithuania, and Estonia. \\n\\nAs I have made crystal clear the United States and our Allies will defend every inch of territory of NATO countries with the full force of our collective power.  \\n\\nAnd we remain clear-eyed. The Ukrainians are fighting back with pure courage. But the next few days weeks, months, will be hard on them.  \\n\\nPutin has unleashed violence and chaos.  But while he may make gains on the battlefield â\\x80\\x93 he will pay a continuing high price over the long run. \\n\\nAnd a proud Ukrainian people, who have known 30 years  of independence, have repeatedly shown that they will not tolerate anyone who tries to take their country backwards.  \\n\\nTo all Americans, I will be honest with you, as Iâ\\x80\\x99ve always promised. A Russian dictator, invading a foreign country, has costs around the world. \\n\\nAnd Iâ\\x80\\x99m taking robust action to make sure the pain of our sanctions  is targeted at Russiaâ\\x80\\x99s economy. And I will use every tool at our disposal to protect American businesses and consumers. \\n\\nTonight, I can announce that the United States has worked with 30 other countries to release 60 Million barrels of oil from reserves around the world.  \\n\\nAmerica will lead that effort, releasing 30 Million barrels from our own Strategic Petroleum Reserve. And we stand ready to do more if necessary, unified with our allies.  \\n\\nThese steps will help blunt gas prices here at home. And I know the news about whatâ\\x80\\x99s happening can seem alarming. \\n\\nBut I want you to know that we are going to be okay. \\n\\nWhen the history of this era is written Putinâ\\x80\\x99s war on Ukraine will have left Russia weaker and the rest of the world stronger. \\n\\nWhile it shouldnâ\\x80\\x99t have taken something so terrible for people around the world to see whatâ\\x80\\x99s at stake now everyone sees it clearly. \\n\\nWe see the unity among leaders of nations and a more unified Europe a more unified West. And we see unity among the people who are gathering in cities in large crowds around the world even in Russia to demonstrate their support for Ukraine.  \\n\\nIn the battle between democracy and autocracy, democracies are rising to the moment, and the world is clearly choosing the side of peace and security. \\n\\nThis is a real test. Itâ\\x80\\x99s going to take time. So let us continue to draw inspiration from the iron will of the Ukrainian people. \\n\\nTo our fellow Ukrainian Americans who forge a deep bond that connects our two nations we stand with you. \\n\\nPutin may circle Kyiv with tanks, but he will never gain the hearts and souls of the Ukrainian people. \\n\\nHe will never extinguish their love of freedom. He will never weaken the resolve of the free world. \\n\\nWe meet tonight in an America that has lived through two of the hardest years this nation has ever faced. \\n\\nThe pandemic has been punishing. \\n\\nAnd so many families are living paycheck to paycheck, struggling to keep up with the rising cost of food, gas, housing, and so much more. \\n\\nI understand. \\n\\nI remember when my Dad had to leave our home in Scranton, Pennsylvania to find work. I grew up in a family where if the price of food went up, you felt it. \\n\\nThatâ\\x80\\x99s why one of the first things I did as President was fight to pass the American Rescue Plan.  \\n\\nBecause people were hurting. We needed to act, and we did. \\n\\nFew pieces of legislation have done more in a critical moment in our history to lift us out of crisis. \\n\\nIt fueled our efforts to vaccinate the nation and combat COVID-19. It delivered immediate economic relief for tens of millions of Americans.  \\n\\nHelped put food on their table, keep a roof over their heads, and cut the cost of health insurance. \\n\\nAnd as my Dad used to say, it gave people a little breathing room. \\n\\nAnd unlike the $2 Trillion tax cut passed in the previous administration that benefitted the top 1% of Americans, the American Rescue Plan helped working peopleâ\\x80\\x94and left no one behind. \\n\\nAnd it worked. It created jobs. Lots of jobs. \\n\\nIn factâ\\x80\\x94our economy created over 6.5 Million new jobs just last year, more jobs created in one year  \\nthan ever before in the history of America. \\n\\nOur economy grew at a rate of 5.7% last year, the strongest growth in nearly 40 years, the first step in bringing fundamental change to an economy that hasnâ\\x80\\x99t worked for the working people of this nation for too long.  \\n\\nFor the past 40 years we were told that if we gave tax breaks to those at the very top, the benefits would trickle down to everyone else. \\n\\nBut that trickle-down theory led to weaker economic growth, lower wages, bigger deficits, and the widest gap between those at the top and everyone else in nearly a century. \\n\\nVice President Harris and I ran for office with a new economic vision for America. \\n\\nInvest in America. Educate Americans. Grow the workforce. Build the economy from the bottom up  \\nand the middle out, not from the top down.  \\n\\nBecause we know that when the middle class grows, the poor have a ladder up and the wealthy do very well. \\n\\nAmerica used to have the best roads, bridges, and airports on Earth. \\n\\nNow our infrastructure is ranked 13th in the world. \\n\\nWe wonâ\\x80\\x99t be able to compete for the jobs of the 21st Century if we donâ\\x80\\x99t fix that. \\n\\nThatâ\\x80\\x99s why it was so important to pass the Bipartisan Infrastructure Lawâ\\x80\\x94the most sweeping investment to rebuild America in history. \\n\\nThis was a bipartisan effort, and I want to thank the members of both parties who worked to make it happen. \\n\\nWeâ\\x80\\x99re done talking about infrastructure weeks. \\n\\nWeâ\\x80\\x99re going to have an infrastructure decade. \\n\\nIt is going to transform America and put us on a path to win the economic competition of the 21st Century that we face with the rest of the worldâ\\x80\\x94particularly with China.  \\n\\nAs Iâ\\x80\\x99ve told Xi Jinping, it is never a good bet to bet against the American people. \\n\\nWeâ\\x80\\x99ll create good jobs for millions of Americans, modernizing roads, airports, ports, and waterways all across America. \\n\\nAnd weâ\\x80\\x99ll do it all to withstand the devastating effects of the climate crisis and promote environmental justice. \\n\\nWeâ\\x80\\x99ll build a national network of 500,000 electric vehicle charging stations, begin to replace poisonous lead pipesâ\\x80\\x94so every childâ\\x80\\x94and every Americanâ\\x80\\x94has clean water to drink at home and at school, provide affordable high-speed internet for every Americanâ\\x80\\x94urban, suburban, rural, and tribal communities. \\n\\n4,000 projects have already been announced. \\n\\nAnd tonight, Iâ\\x80\\x99m announcing that this year we will start fixing over 65,000 miles of highway and 1,500 bridges in disrepair. \\n\\nWhen we use taxpayer dollars to rebuild America â\\x80\\x93 we are going to Buy American: buy American products to support American jobs. \\n\\nThe federal government spends about $600 Billion a year to keep the country safe and secure. \\n\\nThereâ\\x80\\x99s been a law on the books for almost a century \\nto make sure taxpayersâ\\x80\\x99 dollars support American jobs and businesses. \\n\\nEvery Administration says theyâ\\x80\\x99ll do it, but we are actually doing it. \\n\\nWe will buy American to make sure everything from the deck of an aircraft carrier to the steel on highway guardrails are made in America. \\n\\nBut to compete for the best jobs of the future, we also need to level the playing field with China and other competitors. \\n\\nThatâ\\x80\\x99s why it is so important to pass the Bipartisan Innovation Act sitting in Congress that will make record investments in emerging technologies and American manufacturing. \\n\\nLet me give you one example of why itâ\\x80\\x99s so important to pass it. \\n\\nIf you travel 20 miles east of Columbus, Ohio, youâ\\x80\\x99ll find 1,000 empty acres of land. \\n\\nIt wonâ\\x80\\x99t look like much, but if you stop and look closely, youâ\\x80\\x99ll see a â\\x80\\x9cField of dreams,â\\x80\\x9d the ground on which Americaâ\\x80\\x99s future will be built. \\n\\nThis is where Intel, the American company that helped build Silicon Valley, is going to build its $20 billion semiconductor â\\x80\\x9cmega siteâ\\x80\\x9d. \\n\\nUp to eight state-of-the-art factories in one place. 10,000 new good-paying jobs. \\n\\nSome of the most sophisticated manufacturing in the world to make computer chips the size of a fingertip that power the world and our everyday lives. \\n\\nSmartphones. The Internet. Technology we have yet to invent. \\n\\nBut thatâ\\x80\\x99s just the beginning. \\n\\nIntelâ\\x80\\x99s CEO, Pat Gelsinger, who is here tonight, told me they are ready to increase their investment from  \\n$20 billion to $100 billion. \\n\\nThat would be one of the biggest investments in manufacturing in American history. \\n\\nAnd all theyâ\\x80\\x99re waiting for is for you to pass this bill. \\n\\nSo letâ\\x80\\x99s not wait any longer. Send it to my desk. Iâ\\x80\\x99ll sign it.  \\n\\nAnd we will really take off. \\n\\nAnd Intel is not alone. \\n\\nThereâ\\x80\\x99s something happening in America. \\n\\nJust look around and youâ\\x80\\x99ll see an amazing story. \\n\\nThe rebirth of the pride that comes from stamping products â\\x80\\x9cMade In America.â\\x80\\x9d The revitalization of American manufacturing.   \\n\\nCompanies are choosing to build new factories here, when just a few years ago, they would have built them overseas. \\n\\nThatâ\\x80\\x99s what is happening. Ford is investing $11 billion to build electric vehicles, creating 11,000 jobs across the country. \\n\\nGM is making the largest investment in its historyâ\\x80\\x94$7 billion to build electric vehicles, creating 4,000 jobs in Michigan. \\n\\nAll told, we created 369,000 new manufacturing jobs in America just last year. \\n\\nPowered by people Iâ\\x80\\x99ve met like JoJo Burgess, from generations of union steelworkers from Pittsburgh, whoâ\\x80\\x99s here with us tonight. \\n\\nAs Ohio Senator Sherrod Brown says, â\\x80\\x9cItâ\\x80\\x99s time to bury the label â\\x80\\x9cRust Belt.â\\x80\\x9d \\n\\nItâ\\x80\\x99s time. \\n\\nBut with all the bright spots in our economy, record job growth and higher wages, too many families are struggling to keep up with the bills.  \\n\\nInflation is robbing them of the gains they might otherwise feel. \\n\\nI get it. Thatâ\\x80\\x99s why my top priority is getting prices under control. \\n\\nLook, our economy roared back faster than most predicted, but the pandemic meant that businesses had a hard time hiring enough workers to keep up production in their factories. \\n\\nThe pandemic also disrupted global supply chains. \\n\\nWhen factories close, it takes longer to make goods and get them from the warehouse to the store, and prices go up. \\n\\nLook at cars. \\n\\nLast year, there werenâ\\x80\\x99t enough semiconductors to make all the cars that people wanted to buy. \\n\\nAnd guess what, prices of automobiles went up. \\n\\nSoâ\\x80\\x94we have a choice. \\n\\nOne way to fight inflation is to drive down wages and make Americans poorer.  \\n\\nI have a better plan to fight inflation. \\n\\nLower your costs, not your wages. \\n\\nMake more cars and semiconductors in America. \\n\\nMore infrastructure and innovation in America. \\n\\nMore goods moving faster and cheaper in America. \\n\\nMore jobs where you can earn a good living in America. \\n\\nAnd instead of relying on foreign supply chains, letâ\\x80\\x99s make it in America. \\n\\nEconomists call it â\\x80\\x9cincreasing the productive capacity of our economy.â\\x80\\x9d \\n\\nI call it building a better America. \\n\\nMy plan to fight inflation will lower your costs and lower the deficit. \\n\\n17 Nobel laureates in economics say my plan will ease long-term inflationary pressures. Top business leaders and most Americans support my plan. And hereâ\\x80\\x99s the plan: \\n\\nFirst â\\x80\\x93 cut the cost of prescription drugs. Just look at insulin. One in ten Americans has diabetes. In Virginia, I met a 13-year-old boy named Joshua Davis.  \\n\\nHe and his Dad both have Type 1 diabetes, which means they need insulin every day. Insulin costs about $10 a vial to make.  \\n\\nBut drug companies charge families like Joshua and his Dad up to 30 times more. I spoke with Joshuaâ\\x80\\x99s mom. \\n\\nImagine what itâ\\x80\\x99s like to look at your child who needs insulin and have no idea how youâ\\x80\\x99re going to pay for it.  \\n\\nWhat it does to your dignity, your ability to look your child in the eye, to be the parent you expect to be. \\n\\nJoshua is here with us tonight. Yesterday was his birthday. Happy birthday, buddy.  \\n\\nFor Joshua, and for the 200,000 other young people with Type 1 diabetes, letâ\\x80\\x99s cap the cost of insulin at $35 a month so everyone can afford it.  \\n\\nDrug companies will still do very well. And while weâ\\x80\\x99re at it let Medicare negotiate lower prices for prescription drugs, like the VA already does. \\n\\nLook, the American Rescue Plan is helping millions of families on Affordable Care Act plans save $2,400 a year on their health care premiums. Letâ\\x80\\x99s close the coverage gap and make those savings permanent. \\n\\nSecond â\\x80\\x93 cut energy costs for families an average of $500 a year by combatting climate change.  \\n\\nLetâ\\x80\\x99s provide investments and tax credits to weatherize your homes and businesses to be energy efficient and you get a tax credit; double Americaâ\\x80\\x99s clean energy production in solar, wind, and so much more;  lower the price of electric vehicles, saving you another $80 a month because youâ\\x80\\x99ll never have to pay at the gas pump again. \\n\\nThird â\\x80\\x93 cut the cost of child care. Many families pay up to $14,000 a year for child care per child.  \\n\\nMiddle-class and working families shouldnâ\\x80\\x99t have to pay more than 7% of their income for care of young children.  \\n\\nMy plan will cut the cost in half for most families and help parents, including millions of women, who left the workforce during the pandemic because they couldnâ\\x80\\x99t afford child care, to be able to get back to work. \\n\\nMy plan doesnâ\\x80\\x99t stop there. It also includes home and long-term care. More affordable housing. And Pre-K for every 3- and 4-year-old.  \\n\\nAll of these will lower costs. \\n\\nAnd under my plan, nobody earning less than $400,000 a year will pay an additional penny in new taxes. Nobody.  \\n\\nThe one thing all Americans agree on is that the tax system is not fair. We have to fix it.  \\n\\nIâ\\x80\\x99m not looking to punish anyone. But letâ\\x80\\x99s make sure corporations and the wealthiest Americans start paying their fair share. \\n\\nJust last year, 55 Fortune 500 corporations earned $40 billion in profits and paid zero dollars in federal income tax.  \\n\\nThatâ\\x80\\x99s simply not fair. Thatâ\\x80\\x99s why Iâ\\x80\\x99ve proposed a 15% minimum tax rate for corporations. \\n\\nWe got more than 130 countries to agree on a global minimum tax rate so companies canâ\\x80\\x99t get out of paying their taxes at home by shipping jobs and factories overseas. \\n\\nThatâ\\x80\\x99s why Iâ\\x80\\x99ve proposed closing loopholes so the very wealthy donâ\\x80\\x99t pay a lower tax rate than a teacher or a firefighter.  \\n\\nSo thatâ\\x80\\x99s my plan. It will grow the economy and lower costs for families. \\n\\nSo what are we waiting for? Letâ\\x80\\x99s get this done. And while youâ\\x80\\x99re at it, confirm my nominees to the Federal Reserve, which plays a critical role in fighting inflation.  \\n\\nMy plan will not only lower costs to give families a fair shot, it will lower the deficit. \\n\\nThe previous Administration not only ballooned the deficit with tax cuts for the very wealthy and corporations, it undermined the watchdogs whose job was to keep pandemic relief funds from being wasted. \\n\\nBut in my administration, the watchdogs have been welcomed back. \\n\\nWeâ\\x80\\x99re going after the criminals who stole billions in relief money meant for small businesses and millions of Americans.  \\n\\nAnd tonight, Iâ\\x80\\x99m announcing that the Justice Department will name a chief prosecutor for pandemic fraud. \\n\\nBy the end of this year, the deficit will be down to less than half what it was before I took office.  \\n\\nThe only president ever to cut the deficit by more than one trillion dollars in a single year. \\n\\nLowering your costs also means demanding more competition. \\n\\nIâ\\x80\\x99m a capitalist, but capitalism without competition isnâ\\x80\\x99t capitalism. \\n\\nItâ\\x80\\x99s exploitationâ\\x80\\x94and it drives up prices. \\n\\nWhen corporations donâ\\x80\\x99t have to compete, their profits go up, your prices go up, and small businesses and family farmers and ranchers go under. \\n\\nWe see it happening with ocean carriers moving goods in and out of America. \\n\\nDuring the pandemic, these foreign-owned companies raised prices by as much as 1,000% and made record profits. \\n\\nTonight, Iâ\\x80\\x99m announcing a crackdown on these companies overcharging American businesses and consumers. \\n\\nAnd as Wall Street firms take over more nursing homes, quality in those homes has gone down and costs have gone up.  \\n\\nThat ends on my watch. \\n\\nMedicare is going to set higher standards for nursing homes and make sure your loved ones get the care they deserve and expect. \\n\\nWeâ\\x80\\x99ll also cut costs and keep the economy going strong by giving workers a fair shot, provide more training and apprenticeships, hire them based on their skills not degrees. \\n\\nLetâ\\x80\\x99s pass the Paycheck Fairness Act and paid leave.  \\n\\nRaise the minimum wage to $15 an hour and extend the Child Tax Credit, so no one has to raise a family in poverty. \\n\\nLetâ\\x80\\x99s increase Pell Grants and increase our historic support of HBCUs, and invest in what Jillâ\\x80\\x94our First Lady who teaches full-timeâ\\x80\\x94calls Americaâ\\x80\\x99s best-kept secret: community colleges. \\n\\nAnd letâ\\x80\\x99s pass the PRO Act when a majority of workers want to form a unionâ\\x80\\x94they shouldnâ\\x80\\x99t be stopped.  \\n\\nWhen we invest in our workers, when we build the economy from the bottom up and the middle out together, we can do something we havenâ\\x80\\x99t done in a long time: build a better America. \\n\\nFor more than two years, COVID-19 has impacted every decision in our lives and the life of the nation. \\n\\nAnd I know youâ\\x80\\x99re tired, frustrated, and exhausted. \\n\\nBut I also know this. \\n\\nBecause of the progress weâ\\x80\\x99ve made, because of your resilience and the tools we have, tonight I can say  \\nwe are moving forward safely, back to more normal routines.  \\n\\nWeâ\\x80\\x99ve reached a new moment in the fight against COVID-19, with severe cases down to a level not seen since last July.  \\n\\nJust a few days ago, the Centers for Disease Control and Preventionâ\\x80\\x94the CDCâ\\x80\\x94issued new mask guidelines. \\n\\nUnder these new guidelines, most Americans in most of the country can now be mask free.   \\n\\nAnd based on the projections, more of the country will reach that point across the next couple of weeks. \\n\\nThanks to the progress we have made this past year, COVID-19 need no longer control our lives.  \\n\\nI know some are talking about â\\x80\\x9cliving with COVID-19â\\x80\\x9d. Tonight â\\x80\\x93 I say that we will never just accept living with COVID-19. \\n\\nWe will continue to combat the virus as we do other diseases. And because this is a virus that mutates and spreads, we will stay on guard. \\n\\nHere are four common sense steps as we move forward safely.  \\n\\nFirst, stay protected with vaccines and treatments. We know how incredibly effective vaccines are. If youâ\\x80\\x99re vaccinated and boosted you have the highest degree of protection. \\n\\nWe will never give up on vaccinating more Americans. Now, I know parents with kids under 5 are eager to see a vaccine authorized for their children. \\n\\nThe scientists are working hard to get that done and weâ\\x80\\x99ll be ready with plenty of vaccines when they do. \\n\\nWeâ\\x80\\x99re also ready with anti-viral treatments. If you get COVID-19, the Pfizer pill reduces your chances of ending up in the hospital by 90%.  \\n\\nWeâ\\x80\\x99ve ordered more of these pills than anyone in the world. And Pfizer is working overtime to get us 1 Million pills this month and more than double that next month.  \\n\\nAnd weâ\\x80\\x99re launching the â\\x80\\x9cTest to Treatâ\\x80\\x9d initiative so people can get tested at a pharmacy, and if theyâ\\x80\\x99re positive, receive antiviral pills on the spot at no cost.  \\n\\nIf youâ\\x80\\x99re immunocompromised or have some other vulnerability, we have treatments and free high-quality masks. \\n\\nWeâ\\x80\\x99re leaving no one behind or ignoring anyoneâ\\x80\\x99s needs as we move forward. \\n\\nAnd on testing, we have made hundreds of millions of tests available for you to order for free.   \\n\\nEven if you already ordered free tests tonight, I am announcing that you can order more from covidtests.gov starting next week. \\n\\nSecond â\\x80\\x93 we must prepare for new variants. Over the past year, weâ\\x80\\x99ve gotten much better at detecting new variants. \\n\\nIf necessary, weâ\\x80\\x99ll be able to deploy new vaccines within 100 days instead of many more months or years.  \\n\\nAnd, if Congress provides the funds we need, weâ\\x80\\x99ll have new stockpiles of tests, masks, and pills ready if needed. \\n\\nI cannot promise a new variant wonâ\\x80\\x99t come. But I can promise you weâ\\x80\\x99ll do everything within our power to be ready if it does.  \\n\\nThird â\\x80\\x93 we can end the shutdown of schools and businesses. We have the tools we need. \\n\\nItâ\\x80\\x99s time for Americans to get back to work and fill our great downtowns again.  People working from home can feel safe to begin to return to the office.   \\n\\nWeâ\\x80\\x99re doing that here in the federal government. The vast majority of federal workers will once again work in person. \\n\\nOur schools are open. Letâ\\x80\\x99s keep it that way. Our kids need to be in school. \\n\\nAnd with 75% of adult Americans fully vaccinated and hospitalizations down by 77%, most Americans can remove their masks, return to work, stay in the classroom, and move forward safely. \\n\\nWe achieved this because we provided free vaccines, treatments, tests, and masks. \\n\\nOf course, continuing this costs money. \\n\\nI will soon send Congress a request. \\n\\nThe vast majority of Americans have used these tools and may want to again, so I expect Congress to pass it quickly.   \\n\\nFourth, we will continue vaccinating the world.     \\n\\nWeâ\\x80\\x99ve sent 475 Million vaccine doses to 112 countries, more than any other nation. \\n\\nAnd we wonâ\\x80\\x99t stop. \\n\\nWe have lost so much to COVID-19. Time with one another. And worst of all, so much loss of life. \\n\\nLetâ\\x80\\x99s use this moment to reset. Letâ\\x80\\x99s stop looking at COVID-19 as a partisan dividing line and see it for what it is: A God-awful disease.  \\n\\nLetâ\\x80\\x99s stop seeing each other as enemies, and start seeing each other for who we really are: Fellow Americans.  \\n\\nWe canâ\\x80\\x99t change how divided weâ\\x80\\x99ve been. But we can change how we move forwardâ\\x80\\x94on COVID-19 and other issues we must face together. \\n\\nI recently visited the New York City Police Department days after the funerals of Officer Wilbert Mora and his partner, Officer Jason Rivera. \\n\\nThey were responding to a 9-1-1 call when a man shot and killed them with a stolen gun. \\n\\nOfficer Mora was 27 years old. \\n\\nOfficer Rivera was 22. \\n\\nBoth Dominican Americans whoâ\\x80\\x99d grown up on the same streets they later chose to patrol as police officers. \\n\\nI spoke with their families and told them that we are forever in debt for their sacrifice, and we will carry on their mission to restore the trust and safety every community deserves. \\n\\nIâ\\x80\\x99ve worked on these issues a long time. \\n\\nI know what works: Investing in crime preventionand community police officers whoâ\\x80\\x99ll walk the beat, whoâ\\x80\\x99ll know the neighborhood, and who can restore trust and safety. \\n\\nSo letâ\\x80\\x99s not abandon our streets. Or choose between safety and equal justice. \\n\\nLetâ\\x80\\x99s come together to protect our communities, restore trust, and hold law enforcement accountable. \\n\\nThatâ\\x80\\x99s why the Justice Department required body cameras, banned chokeholds, and restricted no-knock warrants for its officers. \\n\\nThatâ\\x80\\x99s why the American Rescue Plan provided $350 Billion that cities, states, and counties can use to hire more police and invest in proven strategies like community violence interruptionâ\\x80\\x94trusted messengers breaking the cycle of violence and trauma and giving young people hope.  \\n\\nWe should all agree: The answer is not to Defund the police. The answer is to FUND the police with the resources and training they need to protect our communities. \\n\\nI ask Democrats and Republicans alike: Pass my budget and keep our neighborhoods safe.  \\n\\nAnd I will keep doing everything in my power to crack down on gun trafficking and ghost guns you can buy online and make at homeâ\\x80\\x94they have no serial numbers and canâ\\x80\\x99t be traced. \\n\\nAnd I ask Congress to pass proven measures to reduce gun violence. Pass universal background checks. Why should anyone on a terrorist list be able to purchase a weapon? \\n\\nBan assault weapons and high-capacity magazines. \\n\\nRepeal the liability shield that makes gun manufacturers the only industry in America that canâ\\x80\\x99t be sued. \\n\\nThese laws donâ\\x80\\x99t infringe on the Second Amendment. They save lives. \\n\\nThe most fundamental right in America is the right to vote â\\x80\\x93 and to have it counted. And itâ\\x80\\x99s under assault. \\n\\nIn state after state, new laws have been passed, not only to suppress the vote, but to subvert entire elections. \\n\\nWe cannot let this happen. \\n\\nTonight. I call on the Senate to: Pass the Freedom to Vote Act. Pass the John Lewis Voting Rights Act. And while youâ\\x80\\x99re at it, pass the Disclose Act so Americans can know who is funding our elections. \\n\\nTonight, Iâ\\x80\\x99d like to honor someone who has dedicated his life to serve this country: Justice Stephen Breyerâ\\x80\\x94an Army veteran, Constitutional scholar, and retiring Justice of the United States Supreme Court. Justice Breyer, thank you for your service. \\n\\nOne of the most serious constitutional responsibilities a President has is nominating someone to serve on the United States Supreme Court. \\n\\nAnd I did that 4 days ago, when I nominated Circuit Court of Appeals Judge Ketanji Brown Jackson. One of our nationâ\\x80\\x99s top legal minds, who will continue Justice Breyerâ\\x80\\x99s legacy of excellence. \\n\\nA former top litigator in private practice. A former federal public defender. And from a family of public school educators and police officers. A consensus builder. Since sheâ\\x80\\x99s been nominated, sheâ\\x80\\x99s received a broad range of supportâ\\x80\\x94from the Fraternal Order of Police to former judges appointed by Democrats and Republicans. \\n\\nAnd if we are to advance liberty and justice, we need to secure the Border and fix the immigration system. \\n\\nWe can do both. At our border, weâ\\x80\\x99ve installed new technology like cutting-edge scanners to better detect drug smuggling.  \\n\\nWeâ\\x80\\x99ve set up joint patrols with Mexico and Guatemala to catch more human traffickers.  \\n\\nWeâ\\x80\\x99re putting in place dedicated immigration judges so families fleeing persecution and violence can have their cases heard faster. \\n\\nWeâ\\x80\\x99re securing commitments and supporting partners in South and Central America to host more refugees and secure their own borders. \\n\\nWe can do all this while keeping lit the torch of liberty that has led generations of immigrants to this landâ\\x80\\x94my forefathers and so many of yours. \\n\\nProvide a pathway to citizenship for Dreamers, those on temporary status, farm workers, and essential workers. \\n\\nRevise our laws so businesses have the workers they need and families donâ\\x80\\x99t wait decades to reunite. \\n\\nItâ\\x80\\x99s not only the right thing to doâ\\x80\\x94itâ\\x80\\x99s the economically smart thing to do. \\n\\nThatâ\\x80\\x99s why immigration reform is supported by everyone from labor unions to religious leaders to the U.S. Chamber of Commerce. \\n\\nLetâ\\x80\\x99s get it done once and for all. \\n\\nAdvancing liberty and justice also requires protecting the rights of women. \\n\\nThe constitutional right affirmed in Roe v. Wadeâ\\x80\\x94standing precedent for half a centuryâ\\x80\\x94is under attack as never before. \\n\\nIf we want to go forwardâ\\x80\\x94not backwardâ\\x80\\x94we must protect access to health care. Preserve a womanâ\\x80\\x99s right to choose. And letâ\\x80\\x99s continue to advance maternal health care in America. \\n\\nAnd for our LGBTQ+ Americans, letâ\\x80\\x99s finally get the bipartisan Equality Act to my desk. The onslaught of state laws targeting transgender Americans and their families is wrong. \\n\\nAs I said last year, especially to our younger transgender Americans, I will always have your back as your President, so you can be yourself and reach your God-given potential. \\n\\nWhile it often appears that we never agree, that isnâ\\x80\\x99t true. I signed 80 bipartisan bills into law last year. From preventing government shutdowns to protecting Asian-Americans from still-too-common hate crimes to reforming military justice. \\n\\nAnd soon, weâ\\x80\\x99ll strengthen the Violence Against Women Act that I first wrote three decades ago. It is important for us to show the nation that we can come together and do big things. \\n\\nSo tonight Iâ\\x80\\x99m offering a Unity Agenda for the Nation. Four big things we can do together.  \\n\\nFirst, beat the opioid epidemic. \\n\\nThere is so much we can do. Increase funding for prevention, treatment, harm reduction, and recovery.  \\n\\nGet rid of outdated rules that stop doctors from prescribing treatments. And stop the flow of illicit drugs by working with state and local law enforcement to go after traffickers. \\n\\nIf youâ\\x80\\x99re suffering from addiction, know you are not alone. I believe in recovery, and I celebrate the 23 million Americans in recovery. \\n\\nSecond, letâ\\x80\\x99s take on mental health. Especially among our children, whose lives and education have been turned upside down.  \\n\\nThe American Rescue Plan gave schools money to hire teachers and help students make up for lost learning.  \\n\\nI urge every parent to make sure your school does just that. And we can all play a partâ\\x80\\x94sign up to be a tutor or a mentor. \\n\\nChildren were also struggling before the pandemic. Bullying, violence, trauma, and the harms of social media. \\n\\nAs Frances Haugen, who is here with us tonight, has shown, we must hold social media platforms accountable for the national experiment theyâ\\x80\\x99re conducting on our children for profit. \\n\\nItâ\\x80\\x99s time to strengthen privacy protections, ban targeted advertising to children, demand tech companies stop collecting personal data on our children. \\n\\nAnd letâ\\x80\\x99s get all Americans the mental health services they need. More people they can turn to for help, and full parity between physical and mental health care. \\n\\nThird, support our veterans. \\n\\nVeterans are the best of us. \\n\\nIâ\\x80\\x99ve always believed that we have a sacred obligation to equip all those we send to war and care for them and their families when they come home. \\n\\nMy administration is providing assistance with job training and housing, and now helping lower-income veterans get VA care debt-free.  \\n\\nOur troops in Iraq and Afghanistan faced many dangers. \\n\\nOne was stationed at bases and breathing in toxic smoke from â\\x80\\x9cburn pitsâ\\x80\\x9d that incinerated wastes of warâ\\x80\\x94medical and hazard material, jet fuel, and more. \\n\\nWhen they came home, many of the worldâ\\x80\\x99s fittest and best trained warriors were never the same. \\n\\nHeadaches. Numbness. Dizziness. \\n\\nA cancer that would put them in a flag-draped coffin. \\n\\nI know. \\n\\nOne of those soldiers was my son Major Beau Biden. \\n\\nWe donâ\\x80\\x99t know for sure if a burn pit was the cause of his brain cancer, or the diseases of so many of our troops. \\n\\nBut Iâ\\x80\\x99m committed to finding out everything we can. \\n\\nCommitted to military families like Danielle Robinson from Ohio. \\n\\nThe widow of Sergeant First Class Heath Robinson.  \\n\\nHe was born a soldier. Army National Guard. Combat medic in Kosovo and Iraq. \\n\\nStationed near Baghdad, just yards from burn pits the size of football fields. \\n\\nHeathâ\\x80\\x99s widow Danielle is here with us tonight. They loved going to Ohio State football games. He loved building Legos with their daughter. \\n\\nBut cancer from prolonged exposure to burn pits ravaged Heathâ\\x80\\x99s lungs and body. \\n\\nDanielle says Heath was a fighter to the very end. \\n\\nHe didnâ\\x80\\x99t know how to stop fighting, and neither did she. \\n\\nThrough her pain she found purpose to demand we do better. \\n\\nTonight, Danielleâ\\x80\\x94we are. \\n\\nThe VA is pioneering new ways of linking toxic exposures to diseases, already helping more veterans get benefits. \\n\\nAnd tonight, Iâ\\x80\\x99m announcing weâ\\x80\\x99re expanding eligibility to veterans suffering from nine respiratory cancers. \\n\\nIâ\\x80\\x99m also calling on Congress: pass a law to make sure veterans devastated by toxic exposures in Iraq and Afghanistan finally get the benefits and comprehensive health care they deserve. \\n\\nAnd fourth, letâ\\x80\\x99s end cancer as we know it. \\n\\nThis is personal to me and Jill, to Kamala, and to so many of you. \\n\\nCancer is the #2 cause of death in Americaâ\\x80\\x93second only to heart disease. \\n\\nLast month, I announced our plan to supercharge  \\nthe Cancer Moonshot that President Obama asked me to lead six years ago. \\n\\nOur goal is to cut the cancer death rate by at least 50% over the next 25 years, turn more cancers from death sentences into treatable diseases.  \\n\\nMore support for patients and families. \\n\\nTo get there, I call on Congress to fund ARPA-H, the Advanced Research Projects Agency for Health. \\n\\nItâ\\x80\\x99s based on DARPAâ\\x80\\x94the Defense Department project that led to the Internet, GPS, and so much more.  \\n\\nARPA-H will have a singular purposeâ\\x80\\x94to drive breakthroughs in cancer, Alzheimerâ\\x80\\x99s, diabetes, and more. \\n\\nA unity agenda for the nation. \\n\\nWe can do this. \\n\\nMy fellow Americansâ\\x80\\x94tonight , we have gathered in a sacred spaceâ\\x80\\x94the citadel of our democracy. \\n\\nIn this Capitol, generation after generation, Americans have debated great questions amid great strife, and have done great things. \\n\\nWe have fought for freedom, expanded liberty, defeated totalitarianism and terror. \\n\\nAnd built the strongest, freest, and most prosperous nation the world has ever known. \\n\\nNow is the hour. \\n\\nOur moment of responsibility. \\n\\nOur test of resolve and conscience, of history itself. \\n\\nIt is in this moment that our character is formed. Our purpose is found. Our future is forged. \\n\\nWell I know this nation.  \\n\\nWe will meet the test. \\n\\nTo protect freedom and liberty, to expand fairness and opportunity. \\n\\nWe will save democracy. \\n\\nAs hard as these times have been, I am more optimistic about America today than I have been my whole life. \\n\\nBecause I see the future that is within our grasp. \\n\\nBecause I know there is simply nothing beyond our capacity. \\n\\nWe are the only nation on Earth that has always turned every crisis we have faced into an opportunity. \\n\\nThe only nation that can be defined by a single word: possibilities. \\n\\nSo on this night, in our 245th year as a nation, I have come to report on the State of the Union. \\n\\nAnd my report is this: the State of the Union is strongâ\\x80\\x94because you, the American people, are strong. \\n\\nWe are stronger today than we were a year ago. \\n\\nAnd we will be stronger a year from now than we are today. \\n\\nNow is our moment to meet and overcome the challenges of our time. \\n\\nAnd we will, as one people. \\n\\nOne America. \\n\\nThe United States of America. \\n\\nMay God bless you all. May God protect our troops.')]"
      ]
     },
     "execution_count": 6,
     "metadata": {},
     "output_type": "execute_result"
    }
   ],
   "source": [
    "data"
   ]
  },
  {
   "cell_type": "markdown",
   "id": "28f58b4e-6a06-4eb8-8e3f-003c2af10080",
   "metadata": {},
   "source": [
    "## Split data\n"
   ]
  },
  {
   "cell_type": "markdown",
   "id": "5718c959-2b10-4b13-8693-6fbff0d5f36f",
   "metadata": {},
   "source": [
    "Since the embedding model has a maximum input token limit, you cannot input the entire document at once. Instead, you need to split it into chunks.\n",
    "\n",
    "The following code shows how to use LangChain's `RecursiveCharacterTextSplitter` to split the document into chunks.\n",
    "- Use the default separator list, which is `[\"\\n\\n\", \"\\n\", \" \", \"\"]`.\n",
    "- Chunk size is set to `100`. This should be set to less than the model's maximum input token.\n",
    "- Chunk overlap is set to `20`.\n",
    "- The length function is `len`.\n"
   ]
  },
  {
   "cell_type": "code",
   "execution_count": 7,
   "id": "70f36fc3-c205-45db-afab-e89e1d3d7ce4",
   "metadata": {},
   "outputs": [],
   "source": [
    "from langchain.text_splitter import RecursiveCharacterTextSplitter"
   ]
  },
  {
   "cell_type": "code",
   "execution_count": 8,
   "id": "8ca7c3c2-bb20-4eaa-bfb1-6f9beb31dc08",
   "metadata": {},
   "outputs": [],
   "source": [
    "text_splitter = RecursiveCharacterTextSplitter(\n",
    "    chunk_size=100,\n",
    "    chunk_overlap=20,\n",
    "    length_function=len,\n",
    ")"
   ]
  },
  {
   "cell_type": "code",
   "execution_count": 9,
   "id": "76b3d897-dc6c-4986-a387-c1db1e7332da",
   "metadata": {},
   "outputs": [],
   "source": [
    "chunks = text_splitter.split_text(data[0].page_content)"
   ]
  },
  {
   "cell_type": "markdown",
   "id": "94436ec8-2e7a-4641-81b9-298056abe44f",
   "metadata": {},
   "source": [
    "Let's see how many chunks you get.\n"
   ]
  },
  {
   "cell_type": "code",
   "execution_count": 10,
   "id": "35316c0a-c828-4578-bc04-06a69de816f9",
   "metadata": {},
   "outputs": [
    {
     "data": {
      "text/plain": [
       "574"
      ]
     },
     "execution_count": 10,
     "metadata": {},
     "output_type": "execute_result"
    }
   ],
   "source": [
    "len(chunks)"
   ]
  },
  {
   "cell_type": "markdown",
   "id": "0acde12a-7ac5-4da2-bb7e-ccf9ef8bf603",
   "metadata": {},
   "source": [
    "Let's also see what these chunks looks like.\n"
   ]
  },
  {
   "cell_type": "code",
   "execution_count": 11,
   "id": "d7d2d184-e62b-43a5-b23e-b8056c9c0ee7",
   "metadata": {},
   "outputs": [
    {
     "data": {
      "text/plain": [
       "['Madam Speaker, Madam Vice President, our First Lady and Second Gentleman. Members of Congress and',\n",
       " 'of Congress and the Cabinet. Justices of the Supreme Court. My fellow Americans.',\n",
       " 'Last year COVID-19 kept us apart. This year we are finally together again.',\n",
       " 'Tonight, we meet as Democrats Republicans and Independents. But most importantly as Americans.',\n",
       " 'With a duty to one another to the American people to the Constitution.',\n",
       " 'And with an unwavering resolve that freedom will always triumph over tyranny.',\n",
       " 'Six days ago, Russiaâ\\x80\\x99s Vladimir Putin sought to shake the foundations of the free world thinking',\n",
       " 'free world thinking he could make it bend to his menacing ways. But he badly miscalculated.',\n",
       " 'He thought he could roll into Ukraine and the world would roll over. Instead he met a wall of',\n",
       " 'he met a wall of strength he never imagined.',\n",
       " 'He met the Ukrainian people.',\n",
       " 'From President Zelenskyy to every Ukrainian, their fearlessness, their courage, their',\n",
       " 'courage, their determination, inspires the world.',\n",
       " 'Groups of citizens blocking tanks with their bodies. Everyone from students to retirees teachers',\n",
       " 'retirees teachers turned soldiers defending their homeland.',\n",
       " 'In this struggle as President Zelenskyy said in his speech to the European Parliament â\\x80\\x9cLight will',\n",
       " 'â\\x80\\x9cLight will win over darkness.â\\x80\\x9d The Ukrainian Ambassador to the United States is here tonight.',\n",
       " 'Let each of us here tonight in this Chamber send an unmistakable signal to Ukraine and to the',\n",
       " 'Ukraine and to the world.',\n",
       " 'Please rise if you are able and show that, Yes, we the United States of America stand with the',\n",
       " 'stand with the Ukrainian people.',\n",
       " 'Throughout our history weâ\\x80\\x99ve learned this lesson when dictators do not pay a price for their',\n",
       " 'a price for their aggression they cause more chaos.',\n",
       " 'They keep moving.   \\n\\nAnd the costs and the threats to America and the world keep rising.',\n",
       " 'Thatâ\\x80\\x99s why the NATO Alliance was created to secure peace and stability in Europe after World War',\n",
       " 'after World War 2.',\n",
       " 'The United States is a member along with 29 other nations.',\n",
       " 'It matters. American diplomacy matters. American resolve matters.',\n",
       " 'Putinâ\\x80\\x99s latest attack on Ukraine was premeditated and unprovoked.',\n",
       " 'He rejected repeated efforts at diplomacy.',\n",
       " 'He thought the West and NATO wouldnâ\\x80\\x99t respond. And he thought he could divide us at home. Putin',\n",
       " 'us at home. Putin was wrong. We were ready.  Here is what we did.',\n",
       " 'We prepared extensively and carefully.',\n",
       " 'We spent months building a coalition of other freedom-loving nations from Europe and the Americas',\n",
       " 'and the Americas to Asia and Africa to confront Putin.',\n",
       " 'I spent countless hours unifying our European allies. We shared with the world in advance what we',\n",
       " 'in advance what we knew Putin was planning and precisely how he would try to falsely justify his',\n",
       " 'falsely justify his aggression.',\n",
       " 'We countered Russiaâ\\x80\\x99s lies with truth.',\n",
       " 'And now that he has acted the free world is holding him accountable.',\n",
       " 'Along with twenty-seven members of the European Union including France, Germany, Italy, as well as',\n",
       " 'Italy, as well as countries like the United Kingdom, Canada, Japan, Korea, Australia, New Zealand,',\n",
       " 'New Zealand, and many others, even Switzerland.',\n",
       " 'We are inflicting pain on Russia and supporting the people of Ukraine. Putin is now isolated from',\n",
       " 'now isolated from the world more than ever.',\n",
       " 'Together with our allies â\\x80\\x93we are right now enforcing powerful economic sanctions.',\n",
       " 'We are cutting off Russiaâ\\x80\\x99s largest banks from the international financial system.',\n",
       " 'Preventing Russiaâ\\x80\\x99s central bank from defending the Russian Ruble making Putinâ\\x80\\x99s $630 Billion',\n",
       " '$630 Billion â\\x80\\x9cwar fundâ\\x80\\x9d worthless.',\n",
       " 'We are choking off Russiaâ\\x80\\x99s access to technology that will sap its economic strength and weaken',\n",
       " 'strength and weaken its military for years to come.',\n",
       " 'Tonight I say to the Russian oligarchs and corrupt leaders who have bilked billions of dollars off',\n",
       " 'of dollars off this violent regime no more.',\n",
       " 'The U.S. Department of Justice is assembling a dedicated task force to go after the crimes of',\n",
       " 'after the crimes of Russian oligarchs.',\n",
       " 'We are joining with our European allies to find and seize your yachts your luxury apartments your',\n",
       " 'apartments your private jets. We are coming for your ill-begotten gains.',\n",
       " 'And tonight I am announcing that we will join our allies in closing off American air space to all',\n",
       " 'air space to all Russian flights â\\x80\\x93 further isolating Russia â\\x80\\x93 and adding an additional squeeze',\n",
       " 'additional squeeze â\\x80\\x93on their economy. The Ruble has lost 30% of its value.',\n",
       " 'The Russian stock market has lost 40% of its value and trading remains suspended. Russiaâ\\x80\\x99s',\n",
       " 'Russiaâ\\x80\\x99s economy is reeling and Putin alone is to blame.',\n",
       " 'Together with our allies we are providing support to the Ukrainians in their fight for freedom.',\n",
       " 'fight for freedom. Military assistance. Economic assistance. Humanitarian assistance.',\n",
       " 'We are giving more than $1 Billion in direct assistance to Ukraine.',\n",
       " 'And we will continue to aid the Ukrainian people as they defend their country and to help ease',\n",
       " 'and to help ease their suffering.',\n",
       " 'Let me be clear, our forces are not engaged and will not engage in conflict with Russian forces in',\n",
       " 'Russian forces in Ukraine.',\n",
       " 'Our forces are not going to Europe to fight in Ukraine, but to defend our NATO Allies â\\x80\\x93 in the',\n",
       " 'Allies â\\x80\\x93 in the event that Putin decides to keep moving west.',\n",
       " 'For that purpose weâ\\x80\\x99ve mobilized American ground forces, air squadrons, and ship deployments to',\n",
       " 'ship deployments to protect NATO countries including Poland, Romania, Latvia, Lithuania, and',\n",
       " 'Lithuania, and Estonia.',\n",
       " 'As I have made crystal clear the United States and our Allies will defend every inch of territory',\n",
       " 'inch of territory of NATO countries with the full force of our collective power.',\n",
       " 'And we remain clear-eyed. The Ukrainians are fighting back with pure courage. But the next few days',\n",
       " 'the next few days weeks, months, will be hard on them.',\n",
       " 'Putin has unleashed violence and chaos.  But while he may make gains on the battlefield â\\x80\\x93 he will',\n",
       " 'â\\x80\\x93 he will pay a continuing high price over the long run.',\n",
       " 'And a proud Ukrainian people, who have known 30 years  of independence, have repeatedly shown that',\n",
       " 'shown that they will not tolerate anyone who tries to take their country backwards.',\n",
       " 'To all Americans, I will be honest with you, as Iâ\\x80\\x99ve always promised. A Russian dictator,',\n",
       " 'A Russian dictator, invading a foreign country, has costs around the world.',\n",
       " 'And Iâ\\x80\\x99m taking robust action to make sure the pain of our sanctions  is targeted at Russiaâ\\x80\\x99s',\n",
       " 'at Russiaâ\\x80\\x99s economy. And I will use every tool at our disposal to protect American businesses and',\n",
       " 'businesses and consumers.',\n",
       " 'Tonight, I can announce that the United States has worked with 30 other countries to release 60',\n",
       " 'to release 60 Million barrels of oil from reserves around the world.',\n",
       " 'America will lead that effort, releasing 30 Million barrels from our own Strategic Petroleum',\n",
       " 'Strategic Petroleum Reserve. And we stand ready to do more if necessary, unified with our allies.',\n",
       " 'These steps will help blunt gas prices here at home. And I know the news about whatâ\\x80\\x99s happening',\n",
       " 'whatâ\\x80\\x99s happening can seem alarming.',\n",
       " 'But I want you to know that we are going to be okay.',\n",
       " 'When the history of this era is written Putinâ\\x80\\x99s war on Ukraine will have left Russia weaker and',\n",
       " 'Russia weaker and the rest of the world stronger.',\n",
       " 'While it shouldnâ\\x80\\x99t have taken something so terrible for people around the world to see whatâ\\x80\\x99s',\n",
       " 'to see whatâ\\x80\\x99s at stake now everyone sees it clearly.',\n",
       " 'We see the unity among leaders of nations and a more unified Europe a more unified West. And we see',\n",
       " 'West. And we see unity among the people who are gathering in cities in large crowds around the',\n",
       " 'crowds around the world even in Russia to demonstrate their support for Ukraine.',\n",
       " 'In the battle between democracy and autocracy, democracies are rising to the moment, and the world',\n",
       " 'and the world is clearly choosing the side of peace and security.',\n",
       " 'This is a real test. Itâ\\x80\\x99s going to take time. So let us continue to draw inspiration from the',\n",
       " 'from the iron will of the Ukrainian people.',\n",
       " 'To our fellow Ukrainian Americans who forge a deep bond that connects our two nations we stand with',\n",
       " 'we stand with you.',\n",
       " 'Putin may circle Kyiv with tanks, but he will never gain the hearts and souls of the Ukrainian',\n",
       " 'of the Ukrainian people.',\n",
       " 'He will never extinguish their love of freedom. He will never weaken the resolve of the free world.',\n",
       " 'of the free world.',\n",
       " 'We meet tonight in an America that has lived through two of the hardest years this nation has ever',\n",
       " 'nation has ever faced.',\n",
       " 'The pandemic has been punishing.',\n",
       " 'And so many families are living paycheck to paycheck, struggling to keep up with the rising cost of',\n",
       " 'the rising cost of food, gas, housing, and so much more.',\n",
       " 'I understand.',\n",
       " 'I remember when my Dad had to leave our home in Scranton, Pennsylvania to find work. I grew up in a',\n",
       " 'I grew up in a family where if the price of food went up, you felt it.',\n",
       " 'Thatâ\\x80\\x99s why one of the first things I did as President was fight to pass the American Rescue Plan.',\n",
       " 'Rescue Plan.',\n",
       " 'Because people were hurting. We needed to act, and we did.',\n",
       " 'Few pieces of legislation have done more in a critical moment in our history to lift us out of',\n",
       " 'to lift us out of crisis.',\n",
       " 'It fueled our efforts to vaccinate the nation and combat COVID-19. It delivered immediate economic',\n",
       " 'immediate economic relief for tens of millions of Americans.',\n",
       " 'Helped put food on their table, keep a roof over their heads, and cut the cost of health insurance.',\n",
       " 'health insurance.',\n",
       " 'And as my Dad used to say, it gave people a little breathing room.',\n",
       " 'And unlike the $2 Trillion tax cut passed in the previous administration that benefitted the top 1%',\n",
       " 'the top 1% of Americans, the American Rescue Plan helped working peopleâ\\x80\\x94and left no one behind.',\n",
       " 'And it worked. It created jobs. Lots of jobs.',\n",
       " 'In factâ\\x80\\x94our economy created over 6.5 Million new jobs just last year, more jobs created in one',\n",
       " 'jobs created in one year',\n",
       " 'than ever before in the history of America.',\n",
       " 'Our economy grew at a rate of 5.7% last year, the strongest growth in nearly 40 years, the first',\n",
       " '40 years, the first step in bringing fundamental change to an economy that hasnâ\\x80\\x99t worked for the',\n",
       " 'worked for the working people of this nation for too long.',\n",
       " 'For the past 40 years we were told that if we gave tax breaks to those at the very top, the',\n",
       " 'the very top, the benefits would trickle down to everyone else.',\n",
       " 'But that trickle-down theory led to weaker economic growth, lower wages, bigger deficits, and the',\n",
       " 'deficits, and the widest gap between those at the top and everyone else in nearly a century.',\n",
       " 'Vice President Harris and I ran for office with a new economic vision for America.',\n",
       " 'Invest in America. Educate Americans. Grow the workforce. Build the economy from the bottom up',\n",
       " 'and the middle out, not from the top down.',\n",
       " 'Because we know that when the middle class grows, the poor have a ladder up and the wealthy do very',\n",
       " 'the wealthy do very well.',\n",
       " 'America used to have the best roads, bridges, and airports on Earth.',\n",
       " 'Now our infrastructure is ranked 13th in the world.',\n",
       " 'We wonâ\\x80\\x99t be able to compete for the jobs of the 21st Century if we donâ\\x80\\x99t fix that.',\n",
       " 'Thatâ\\x80\\x99s why it was so important to pass the Bipartisan Infrastructure Lawâ\\x80\\x94the most sweeping',\n",
       " 'most sweeping investment to rebuild America in history.',\n",
       " 'This was a bipartisan effort, and I want to thank the members of both parties who worked to make it',\n",
       " 'worked to make it happen.',\n",
       " 'Weâ\\x80\\x99re done talking about infrastructure weeks.',\n",
       " 'Weâ\\x80\\x99re going to have an infrastructure decade.',\n",
       " 'It is going to transform America and put us on a path to win the economic competition of the 21st',\n",
       " 'of the 21st Century that we face with the rest of the worldâ\\x80\\x94particularly with China.',\n",
       " 'As Iâ\\x80\\x99ve told Xi Jinping, it is never a good bet to bet against the American people.',\n",
       " 'Weâ\\x80\\x99ll create good jobs for millions of Americans, modernizing roads, airports, ports, and',\n",
       " 'ports, and waterways all across America.',\n",
       " 'And weâ\\x80\\x99ll do it all to withstand the devastating effects of the climate crisis and promote',\n",
       " 'crisis and promote environmental justice.',\n",
       " 'Weâ\\x80\\x99ll build a national network of 500,000 electric vehicle charging stations, begin to replace',\n",
       " 'begin to replace poisonous lead pipesâ\\x80\\x94so every childâ\\x80\\x94and every Americanâ\\x80\\x94has clean water to',\n",
       " 'clean water to drink at home and at school, provide affordable high-speed internet for every',\n",
       " 'internet for every Americanâ\\x80\\x94urban, suburban, rural, and tribal communities.',\n",
       " '4,000 projects have already been announced.',\n",
       " 'And tonight, Iâ\\x80\\x99m announcing that this year we will start fixing over 65,000 miles of highway and',\n",
       " 'of highway and 1,500 bridges in disrepair.',\n",
       " 'When we use taxpayer dollars to rebuild America â\\x80\\x93 we are going to Buy American: buy American',\n",
       " 'buy American products to support American jobs.',\n",
       " 'The federal government spends about $600 Billion a year to keep the country safe and secure.',\n",
       " 'Thereâ\\x80\\x99s been a law on the books for almost a century',\n",
       " 'to make sure taxpayersâ\\x80\\x99 dollars support American jobs and businesses.',\n",
       " 'Every Administration says theyâ\\x80\\x99ll do it, but we are actually doing it.',\n",
       " 'We will buy American to make sure everything from the deck of an aircraft carrier to the steel on',\n",
       " 'to the steel on highway guardrails are made in America.',\n",
       " 'But to compete for the best jobs of the future, we also need to level the playing field with China',\n",
       " 'field with China and other competitors.',\n",
       " 'Thatâ\\x80\\x99s why it is so important to pass the Bipartisan Innovation Act sitting in Congress that will',\n",
       " 'Congress that will make record investments in emerging technologies and American manufacturing.',\n",
       " 'Let me give you one example of why itâ\\x80\\x99s so important to pass it.',\n",
       " 'If you travel 20 miles east of Columbus, Ohio, youâ\\x80\\x99ll find 1,000 empty acres of land.',\n",
       " 'It wonâ\\x80\\x99t look like much, but if you stop and look closely, youâ\\x80\\x99ll see a â\\x80\\x9cField of dreams,â\\x80\\x9d',\n",
       " 'of dreams,â\\x80\\x9d the ground on which Americaâ\\x80\\x99s future will be built.',\n",
       " 'This is where Intel, the American company that helped build Silicon Valley, is going to build its',\n",
       " 'going to build its $20 billion semiconductor â\\x80\\x9cmega siteâ\\x80\\x9d.',\n",
       " 'Up to eight state-of-the-art factories in one place. 10,000 new good-paying jobs.',\n",
       " 'Some of the most sophisticated manufacturing in the world to make computer chips the size of a',\n",
       " 'chips the size of a fingertip that power the world and our everyday lives.',\n",
       " 'Smartphones. The Internet. Technology we have yet to invent. \\n\\nBut thatâ\\x80\\x99s just the beginning.',\n",
       " 'Intelâ\\x80\\x99s CEO, Pat Gelsinger, who is here tonight, told me they are ready to increase their',\n",
       " 'to increase their investment from',\n",
       " '$20 billion to $100 billion.',\n",
       " 'That would be one of the biggest investments in manufacturing in American history.',\n",
       " 'And all theyâ\\x80\\x99re waiting for is for you to pass this bill.',\n",
       " 'So letâ\\x80\\x99s not wait any longer. Send it to my desk. Iâ\\x80\\x99ll sign it.',\n",
       " 'And we will really take off. \\n\\nAnd Intel is not alone.',\n",
       " 'Thereâ\\x80\\x99s something happening in America. \\n\\nJust look around and youâ\\x80\\x99ll see an amazing story.',\n",
       " 'The rebirth of the pride that comes from stamping products â\\x80\\x9cMade In America.â\\x80\\x9d The',\n",
       " 'In America.â\\x80\\x9d The revitalization of American manufacturing.',\n",
       " 'Companies are choosing to build new factories here, when just a few years ago, they would have',\n",
       " 'they would have built them overseas.',\n",
       " 'Thatâ\\x80\\x99s what is happening. Ford is investing $11 billion to build electric vehicles, creating',\n",
       " 'vehicles, creating 11,000 jobs across the country.',\n",
       " 'GM is making the largest investment in its historyâ\\x80\\x94$7 billion to build electric vehicles,',\n",
       " 'electric vehicles, creating 4,000 jobs in Michigan.',\n",
       " 'All told, we created 369,000 new manufacturing jobs in America just last year.',\n",
       " 'Powered by people Iâ\\x80\\x99ve met like JoJo Burgess, from generations of union steelworkers from',\n",
       " 'steelworkers from Pittsburgh, whoâ\\x80\\x99s here with us tonight.',\n",
       " 'As Ohio Senator Sherrod Brown says, â\\x80\\x9cItâ\\x80\\x99s time to bury the label â\\x80\\x9cRust Belt.â\\x80\\x9d',\n",
       " 'Itâ\\x80\\x99s time.',\n",
       " 'But with all the bright spots in our economy, record job growth and higher wages, too many families',\n",
       " 'too many families are struggling to keep up with the bills.',\n",
       " 'Inflation is robbing them of the gains they might otherwise feel.',\n",
       " 'I get it. Thatâ\\x80\\x99s why my top priority is getting prices under control.',\n",
       " 'Look, our economy roared back faster than most predicted, but the pandemic meant that businesses',\n",
       " 'that businesses had a hard time hiring enough workers to keep up production in their factories.',\n",
       " 'The pandemic also disrupted global supply chains.',\n",
       " 'When factories close, it takes longer to make goods and get them from the warehouse to the store,',\n",
       " 'to the store, and prices go up.',\n",
       " 'Look at cars.',\n",
       " 'Last year, there werenâ\\x80\\x99t enough semiconductors to make all the cars that people wanted to buy.',\n",
       " 'And guess what, prices of automobiles went up. \\n\\nSoâ\\x80\\x94we have a choice.',\n",
       " 'One way to fight inflation is to drive down wages and make Americans poorer.',\n",
       " 'I have a better plan to fight inflation. \\n\\nLower your costs, not your wages.',\n",
       " 'Make more cars and semiconductors in America. \\n\\nMore infrastructure and innovation in America.',\n",
       " 'More goods moving faster and cheaper in America.',\n",
       " 'More jobs where you can earn a good living in America.',\n",
       " 'And instead of relying on foreign supply chains, letâ\\x80\\x99s make it in America.',\n",
       " 'Economists call it â\\x80\\x9cincreasing the productive capacity of our economy.â\\x80\\x9d',\n",
       " 'I call it building a better America.',\n",
       " 'My plan to fight inflation will lower your costs and lower the deficit.',\n",
       " '17 Nobel laureates in economics say my plan will ease long-term inflationary pressures. Top',\n",
       " 'pressures. Top business leaders and most Americans support my plan. And hereâ\\x80\\x99s the plan:',\n",
       " 'First â\\x80\\x93 cut the cost of prescription drugs. Just look at insulin. One in ten Americans has',\n",
       " 'ten Americans has diabetes. In Virginia, I met a 13-year-old boy named Joshua Davis.',\n",
       " 'He and his Dad both have Type 1 diabetes, which means they need insulin every day. Insulin costs',\n",
       " 'day. Insulin costs about $10 a vial to make.',\n",
       " 'But drug companies charge families like Joshua and his Dad up to 30 times more. I spoke with',\n",
       " 'more. I spoke with Joshuaâ\\x80\\x99s mom.',\n",
       " 'Imagine what itâ\\x80\\x99s like to look at your child who needs insulin and have no idea how youâ\\x80\\x99re',\n",
       " 'idea how youâ\\x80\\x99re going to pay for it.',\n",
       " 'What it does to your dignity, your ability to look your child in the eye, to be the parent you',\n",
       " 'be the parent you expect to be.',\n",
       " 'Joshua is here with us tonight. Yesterday was his birthday. Happy birthday, buddy.',\n",
       " 'For Joshua, and for the 200,000 other young people with Type 1 diabetes, letâ\\x80\\x99s cap the cost of',\n",
       " 'cap the cost of insulin at $35 a month so everyone can afford it.',\n",
       " 'Drug companies will still do very well. And while weâ\\x80\\x99re at it let Medicare negotiate lower prices',\n",
       " 'lower prices for prescription drugs, like the VA already does.',\n",
       " 'Look, the American Rescue Plan is helping millions of families on Affordable Care Act plans save',\n",
       " 'Care Act plans save $2,400 a year on their health care premiums. Letâ\\x80\\x99s close the coverage gap and',\n",
       " 'coverage gap and make those savings permanent.',\n",
       " 'Second â\\x80\\x93 cut energy costs for families an average of $500 a year by combatting climate change.',\n",
       " 'Letâ\\x80\\x99s provide investments and tax credits to weatherize your homes and businesses to be energy',\n",
       " 'to be energy efficient and you get a tax credit; double Americaâ\\x80\\x99s clean energy production in',\n",
       " 'production in solar, wind, and so much more;  lower the price of electric vehicles, saving you',\n",
       " 'saving you another $80 a month because youâ\\x80\\x99ll never have to pay at the gas pump again.',\n",
       " 'Third â\\x80\\x93 cut the cost of child care. Many families pay up to $14,000 a year for child care per',\n",
       " 'for child care per child.',\n",
       " 'Middle-class and working families shouldnâ\\x80\\x99t have to pay more than 7% of their income for care of',\n",
       " 'income for care of young children.',\n",
       " 'My plan will cut the cost in half for most families and help parents, including millions of women,',\n",
       " 'millions of women, who left the workforce during the pandemic because they couldnâ\\x80\\x99t afford child',\n",
       " 'afford child care, to be able to get back to work.',\n",
       " 'My plan doesnâ\\x80\\x99t stop there. It also includes home and long-term care. More affordable housing.',\n",
       " 'affordable housing. And Pre-K for every 3- and 4-year-old.',\n",
       " 'All of these will lower costs.',\n",
       " 'And under my plan, nobody earning less than $400,000 a year will pay an additional penny in new',\n",
       " 'penny in new taxes. Nobody.',\n",
       " 'The one thing all Americans agree on is that the tax system is not fair. We have to fix it.',\n",
       " 'Iâ\\x80\\x99m not looking to punish anyone. But letâ\\x80\\x99s make sure corporations and the wealthiest Americans',\n",
       " 'Americans start paying their fair share.',\n",
       " 'Just last year, 55 Fortune 500 corporations earned $40 billion in profits and paid zero dollars in',\n",
       " 'zero dollars in federal income tax.',\n",
       " 'Thatâ\\x80\\x99s simply not fair. Thatâ\\x80\\x99s why Iâ\\x80\\x99ve proposed a 15% minimum tax rate for corporations.',\n",
       " 'We got more than 130 countries to agree on a global minimum tax rate so companies canâ\\x80\\x99t get out',\n",
       " 'canâ\\x80\\x99t get out of paying their taxes at home by shipping jobs and factories overseas.',\n",
       " 'Thatâ\\x80\\x99s why Iâ\\x80\\x99ve proposed closing loopholes so the very wealthy donâ\\x80\\x99t pay a lower tax rate',\n",
       " 'a lower tax rate than a teacher or a firefighter.',\n",
       " 'So thatâ\\x80\\x99s my plan. It will grow the economy and lower costs for families.',\n",
       " 'So what are we waiting for? Letâ\\x80\\x99s get this done. And while youâ\\x80\\x99re at it, confirm my nominees to',\n",
       " 'my nominees to the Federal Reserve, which plays a critical role in fighting inflation.',\n",
       " 'My plan will not only lower costs to give families a fair shot, it will lower the deficit.',\n",
       " 'The previous Administration not only ballooned the deficit with tax cuts for the very wealthy and',\n",
       " 'very wealthy and corporations, it undermined the watchdogs whose job was to keep pandemic relief',\n",
       " 'pandemic relief funds from being wasted.',\n",
       " 'But in my administration, the watchdogs have been welcomed back.',\n",
       " 'Weâ\\x80\\x99re going after the criminals who stole billions in relief money meant for small businesses and',\n",
       " 'businesses and millions of Americans.',\n",
       " 'And tonight, Iâ\\x80\\x99m announcing that the Justice Department will name a chief prosecutor for pandemic',\n",
       " 'for pandemic fraud.',\n",
       " 'By the end of this year, the deficit will be down to less than half what it was before I took',\n",
       " 'was before I took office.',\n",
       " 'The only president ever to cut the deficit by more than one trillion dollars in a single year.',\n",
       " 'Lowering your costs also means demanding more competition.',\n",
       " 'Iâ\\x80\\x99m a capitalist, but capitalism without competition isnâ\\x80\\x99t capitalism.',\n",
       " 'Itâ\\x80\\x99s exploitationâ\\x80\\x94and it drives up prices.',\n",
       " 'When corporations donâ\\x80\\x99t have to compete, their profits go up, your prices go up, and small',\n",
       " 'go up, and small businesses and family farmers and ranchers go under.',\n",
       " 'We see it happening with ocean carriers moving goods in and out of America.',\n",
       " 'During the pandemic, these foreign-owned companies raised prices by as much as 1,000% and made',\n",
       " 'as 1,000% and made record profits.',\n",
       " 'Tonight, Iâ\\x80\\x99m announcing a crackdown on these companies overcharging American businesses and',\n",
       " 'businesses and consumers.',\n",
       " 'And as Wall Street firms take over more nursing homes, quality in those homes has gone down and',\n",
       " 'has gone down and costs have gone up.',\n",
       " 'That ends on my watch.',\n",
       " 'Medicare is going to set higher standards for nursing homes and make sure your loved ones get the',\n",
       " 'loved ones get the care they deserve and expect.',\n",
       " 'Weâ\\x80\\x99ll also cut costs and keep the economy going strong by giving workers a fair shot, provide',\n",
       " 'fair shot, provide more training and apprenticeships, hire them based on their skills not degrees.',\n",
       " 'Letâ\\x80\\x99s pass the Paycheck Fairness Act and paid leave.',\n",
       " 'Raise the minimum wage to $15 an hour and extend the Child Tax Credit, so no one has to raise a',\n",
       " 'one has to raise a family in poverty.',\n",
       " 'Letâ\\x80\\x99s increase Pell Grants and increase our historic support of HBCUs, and invest in what',\n",
       " 'and invest in what Jillâ\\x80\\x94our First Lady who teaches full-timeâ\\x80\\x94calls Americaâ\\x80\\x99s best-kept',\n",
       " 'best-kept secret: community colleges.',\n",
       " 'And letâ\\x80\\x99s pass the PRO Act when a majority of workers want to form a unionâ\\x80\\x94they shouldnâ\\x80\\x99t be',\n",
       " 'shouldnâ\\x80\\x99t be stopped.',\n",
       " 'When we invest in our workers, when we build the economy from the bottom up and the middle out',\n",
       " 'and the middle out together, we can do something we havenâ\\x80\\x99t done in a long time: build a better',\n",
       " 'build a better America.',\n",
       " 'For more than two years, COVID-19 has impacted every decision in our lives and the life of the',\n",
       " 'and the life of the nation.',\n",
       " 'And I know youâ\\x80\\x99re tired, frustrated, and exhausted. \\n\\nBut I also know this.',\n",
       " 'Because of the progress weâ\\x80\\x99ve made, because of your resilience and the tools we have, tonight I',\n",
       " 'we have, tonight I can say',\n",
       " 'we are moving forward safely, back to more normal routines.',\n",
       " 'Weâ\\x80\\x99ve reached a new moment in the fight against COVID-19, with severe cases down to a level not',\n",
       " 'down to a level not seen since last July.',\n",
       " 'Just a few days ago, the Centers for Disease Control and Preventionâ\\x80\\x94the CDCâ\\x80\\x94issued new mask',\n",
       " 'new mask guidelines.',\n",
       " 'Under these new guidelines, most Americans in most of the country can now be mask free.',\n",
       " 'And based on the projections, more of the country will reach that point across the next couple of',\n",
       " 'the next couple of weeks.',\n",
       " 'Thanks to the progress we have made this past year, COVID-19 need no longer control our lives.',\n",
       " 'I know some are talking about â\\x80\\x9cliving with COVID-19â\\x80\\x9d. Tonight â\\x80\\x93 I say that we will never just',\n",
       " 'we will never just accept living with COVID-19.',\n",
       " 'We will continue to combat the virus as we do other diseases. And because this is a virus that',\n",
       " 'is a virus that mutates and spreads, we will stay on guard.',\n",
       " 'Here are four common sense steps as we move forward safely.',\n",
       " 'First, stay protected with vaccines and treatments. We know how incredibly effective vaccines are.',\n",
       " 'vaccines are. If youâ\\x80\\x99re vaccinated and boosted you have the highest degree of protection.',\n",
       " 'We will never give up on vaccinating more Americans. Now, I know parents with kids under 5 are',\n",
       " 'kids under 5 are eager to see a vaccine authorized for their children.',\n",
       " 'The scientists are working hard to get that done and weâ\\x80\\x99ll be ready with plenty of vaccines when',\n",
       " 'of vaccines when they do.',\n",
       " 'Weâ\\x80\\x99re also ready with anti-viral treatments. If you get COVID-19, the Pfizer pill reduces your',\n",
       " 'pill reduces your chances of ending up in the hospital by 90%.',\n",
       " 'Weâ\\x80\\x99ve ordered more of these pills than anyone in the world. And Pfizer is working overtime to get',\n",
       " 'overtime to get us 1 Million pills this month and more than double that next month.',\n",
       " 'And weâ\\x80\\x99re launching the â\\x80\\x9cTest to Treatâ\\x80\\x9d initiative so people can get tested at a pharmacy,',\n",
       " 'at a pharmacy, and if theyâ\\x80\\x99re positive, receive antiviral pills on the spot at no cost.',\n",
       " 'If youâ\\x80\\x99re immunocompromised or have some other vulnerability, we have treatments and free',\n",
       " 'treatments and free high-quality masks.',\n",
       " 'Weâ\\x80\\x99re leaving no one behind or ignoring anyoneâ\\x80\\x99s needs as we move forward.',\n",
       " 'And on testing, we have made hundreds of millions of tests available for you to order for free.',\n",
       " 'Even if you already ordered free tests tonight, I am announcing that you can order more from',\n",
       " 'can order more from covidtests.gov starting next week.',\n",
       " 'Second â\\x80\\x93 we must prepare for new variants. Over the past year, weâ\\x80\\x99ve gotten much better at',\n",
       " 'much better at detecting new variants.',\n",
       " 'If necessary, weâ\\x80\\x99ll be able to deploy new vaccines within 100 days instead of many more months or',\n",
       " 'many more months or years.',\n",
       " 'And, if Congress provides the funds we need, weâ\\x80\\x99ll have new stockpiles of tests, masks, and pills',\n",
       " 'masks, and pills ready if needed.',\n",
       " 'I cannot promise a new variant wonâ\\x80\\x99t come. But I can promise you weâ\\x80\\x99ll do everything within our',\n",
       " 'within our power to be ready if it does.',\n",
       " 'Third â\\x80\\x93 we can end the shutdown of schools and businesses. We have the tools we need.',\n",
       " 'Itâ\\x80\\x99s time for Americans to get back to work and fill our great downtowns again.  People working',\n",
       " 'People working from home can feel safe to begin to return to the office.',\n",
       " 'Weâ\\x80\\x99re doing that here in the federal government. The vast majority of federal workers will once',\n",
       " 'workers will once again work in person.',\n",
       " 'Our schools are open. Letâ\\x80\\x99s keep it that way. Our kids need to be in school.',\n",
       " 'And with 75% of adult Americans fully vaccinated and hospitalizations down by 77%, most Americans',\n",
       " '77%, most Americans can remove their masks, return to work, stay in the classroom, and move forward',\n",
       " 'and move forward safely.',\n",
       " 'We achieved this because we provided free vaccines, treatments, tests, and masks.',\n",
       " 'Of course, continuing this costs money. \\n\\nI will soon send Congress a request.',\n",
       " 'The vast majority of Americans have used these tools and may want to again, so I expect Congress to',\n",
       " 'expect Congress to pass it quickly.',\n",
       " 'Fourth, we will continue vaccinating the world.',\n",
       " 'Weâ\\x80\\x99ve sent 475 Million vaccine doses to 112 countries, more than any other nation.',\n",
       " 'And we wonâ\\x80\\x99t stop.',\n",
       " 'We have lost so much to COVID-19. Time with one another. And worst of all, so much loss of life.',\n",
       " 'Letâ\\x80\\x99s use this moment to reset. Letâ\\x80\\x99s stop looking at COVID-19 as a partisan dividing line and',\n",
       " 'dividing line and see it for what it is: A God-awful disease.',\n",
       " 'Letâ\\x80\\x99s stop seeing each other as enemies, and start seeing each other for who we really are:',\n",
       " 'who we really are: Fellow Americans.',\n",
       " 'We canâ\\x80\\x99t change how divided weâ\\x80\\x99ve been. But we can change how we move forwardâ\\x80\\x94on COVID-19 and',\n",
       " 'COVID-19 and other issues we must face together.',\n",
       " 'I recently visited the New York City Police Department days after the funerals of Officer Wilbert',\n",
       " 'of Officer Wilbert Mora and his partner, Officer Jason Rivera.',\n",
       " 'They were responding to a 9-1-1 call when a man shot and killed them with a stolen gun.',\n",
       " 'Officer Mora was 27 years old. \\n\\nOfficer Rivera was 22.',\n",
       " 'Both Dominican Americans whoâ\\x80\\x99d grown up on the same streets they later chose to patrol as police',\n",
       " 'to patrol as police officers.',\n",
       " 'I spoke with their families and told them that we are forever in debt for their sacrifice, and we',\n",
       " 'sacrifice, and we will carry on their mission to restore the trust and safety every community',\n",
       " 'every community deserves.',\n",
       " 'Iâ\\x80\\x99ve worked on these issues a long time.',\n",
       " 'I know what works: Investing in crime preventionand community police officers whoâ\\x80\\x99ll walk the',\n",
       " 'whoâ\\x80\\x99ll walk the beat, whoâ\\x80\\x99ll know the neighborhood, and who can restore trust and safety.',\n",
       " 'So letâ\\x80\\x99s not abandon our streets. Or choose between safety and equal justice.',\n",
       " 'Letâ\\x80\\x99s come together to protect our communities, restore trust, and hold law enforcement',\n",
       " 'law enforcement accountable.',\n",
       " 'Thatâ\\x80\\x99s why the Justice Department required body cameras, banned chokeholds, and restricted',\n",
       " 'and restricted no-knock warrants for its officers.',\n",
       " 'Thatâ\\x80\\x99s why the American Rescue Plan provided $350 Billion that cities, states, and counties can',\n",
       " 'and counties can use to hire more police and invest in proven strategies like community violence',\n",
       " 'community violence interruptionâ\\x80\\x94trusted messengers breaking the cycle of violence and trauma and',\n",
       " 'and trauma and giving young people hope.',\n",
       " 'We should all agree: The answer is not to Defund the police. The answer is to FUND the police with',\n",
       " 'the police with the resources and training they need to protect our communities.',\n",
       " 'I ask Democrats and Republicans alike: Pass my budget and keep our neighborhoods safe.',\n",
       " 'And I will keep doing everything in my power to crack down on gun trafficking and ghost guns you',\n",
       " 'and ghost guns you can buy online and make at homeâ\\x80\\x94they have no serial numbers and canâ\\x80\\x99t be',\n",
       " 'and canâ\\x80\\x99t be traced.',\n",
       " 'And I ask Congress to pass proven measures to reduce gun violence. Pass universal background',\n",
       " 'background checks. Why should anyone on a terrorist list be able to purchase a weapon?',\n",
       " 'Ban assault weapons and high-capacity magazines.',\n",
       " 'Repeal the liability shield that makes gun manufacturers the only industry in America that canâ\\x80\\x99t',\n",
       " 'that canâ\\x80\\x99t be sued.',\n",
       " 'These laws donâ\\x80\\x99t infringe on the Second Amendment. They save lives.',\n",
       " 'The most fundamental right in America is the right to vote â\\x80\\x93 and to have it counted. And itâ\\x80\\x99s',\n",
       " 'counted. And itâ\\x80\\x99s under assault.',\n",
       " 'In state after state, new laws have been passed, not only to suppress the vote, but to subvert',\n",
       " 'but to subvert entire elections.',\n",
       " 'We cannot let this happen.',\n",
       " 'Tonight. I call on the Senate to: Pass the Freedom to Vote Act. Pass the John Lewis Voting Rights',\n",
       " 'Lewis Voting Rights Act. And while youâ\\x80\\x99re at it, pass the Disclose Act so Americans can know who',\n",
       " 'can know who is funding our elections.',\n",
       " 'Tonight, Iâ\\x80\\x99d like to honor someone who has dedicated his life to serve this country: Justice',\n",
       " 'country: Justice Stephen Breyerâ\\x80\\x94an Army veteran, Constitutional scholar, and retiring Justice of',\n",
       " 'retiring Justice of the United States Supreme Court. Justice Breyer, thank you for your service.',\n",
       " 'One of the most serious constitutional responsibilities a President has is nominating someone to',\n",
       " 'someone to serve on the United States Supreme Court.',\n",
       " 'And I did that 4 days ago, when I nominated Circuit Court of Appeals Judge Ketanji Brown Jackson.',\n",
       " 'Brown Jackson. One of our nationâ\\x80\\x99s top legal minds, who will continue Justice Breyerâ\\x80\\x99s legacy',\n",
       " 'Breyerâ\\x80\\x99s legacy of excellence.',\n",
       " 'A former top litigator in private practice. A former federal public defender. And from a family of',\n",
       " 'from a family of public school educators and police officers. A consensus builder. Since sheâ\\x80\\x99s',\n",
       " 'Since sheâ\\x80\\x99s been nominated, sheâ\\x80\\x99s received a broad range of supportâ\\x80\\x94from the Fraternal Order',\n",
       " 'the Fraternal Order of Police to former judges appointed by Democrats and Republicans.',\n",
       " 'And if we are to advance liberty and justice, we need to secure the Border and fix the immigration',\n",
       " 'fix the immigration system.',\n",
       " 'We can do both. At our border, weâ\\x80\\x99ve installed new technology like cutting-edge scanners to',\n",
       " 'scanners to better detect drug smuggling.',\n",
       " 'Weâ\\x80\\x99ve set up joint patrols with Mexico and Guatemala to catch more human traffickers.',\n",
       " 'Weâ\\x80\\x99re putting in place dedicated immigration judges so families fleeing persecution and violence',\n",
       " 'and violence can have their cases heard faster.',\n",
       " 'Weâ\\x80\\x99re securing commitments and supporting partners in South and Central America to host more',\n",
       " 'to host more refugees and secure their own borders.',\n",
       " 'We can do all this while keeping lit the torch of liberty that has led generations of immigrants to',\n",
       " 'of immigrants to this landâ\\x80\\x94my forefathers and so many of yours.',\n",
       " 'Provide a pathway to citizenship for Dreamers, those on temporary status, farm workers, and',\n",
       " 'farm workers, and essential workers.',\n",
       " 'Revise our laws so businesses have the workers they need and families donâ\\x80\\x99t wait decades to',\n",
       " 'wait decades to reunite.',\n",
       " 'Itâ\\x80\\x99s not only the right thing to doâ\\x80\\x94itâ\\x80\\x99s the economically smart thing to do.',\n",
       " 'Thatâ\\x80\\x99s why immigration reform is supported by everyone from labor unions to religious leaders to',\n",
       " 'leaders to the U.S. Chamber of Commerce.',\n",
       " 'Letâ\\x80\\x99s get it done once and for all.',\n",
       " 'Advancing liberty and justice also requires protecting the rights of women.',\n",
       " 'The constitutional right affirmed in Roe v. Wadeâ\\x80\\x94standing precedent for half a centuryâ\\x80\\x94is under',\n",
       " 'centuryâ\\x80\\x94is under attack as never before.',\n",
       " 'If we want to go forwardâ\\x80\\x94not backwardâ\\x80\\x94we must protect access to health care. Preserve a',\n",
       " 'care. Preserve a womanâ\\x80\\x99s right to choose. And letâ\\x80\\x99s continue to advance maternal health care in',\n",
       " 'health care in America.',\n",
       " 'And for our LGBTQ+ Americans, letâ\\x80\\x99s finally get the bipartisan Equality Act to my desk. The',\n",
       " 'Act to my desk. The onslaught of state laws targeting transgender Americans and their families is',\n",
       " 'their families is wrong.',\n",
       " 'As I said last year, especially to our younger transgender Americans, I will always have your back',\n",
       " 'have your back as your President, so you can be yourself and reach your God-given potential.',\n",
       " 'While it often appears that we never agree, that isnâ\\x80\\x99t true. I signed 80 bipartisan bills into',\n",
       " 'bills into law last year. From preventing government shutdowns to protecting Asian-Americans from',\n",
       " 'from still-too-common hate crimes to reforming military justice.',\n",
       " 'And soon, weâ\\x80\\x99ll strengthen the Violence Against Women Act that I first wrote three decades ago.',\n",
       " 'three decades ago. It is important for us to show the nation that we can come together and do big',\n",
       " 'together and do big things.',\n",
       " 'So tonight Iâ\\x80\\x99m offering a Unity Agenda for the Nation. Four big things we can do together.',\n",
       " 'First, beat the opioid epidemic.',\n",
       " 'There is so much we can do. Increase funding for prevention, treatment, harm reduction, and',\n",
       " 'harm reduction, and recovery.',\n",
       " 'Get rid of outdated rules that stop doctors from prescribing treatments. And stop the flow of',\n",
       " 'stop the flow of illicit drugs by working with state and local law enforcement to go after',\n",
       " 'to go after traffickers.',\n",
       " 'If youâ\\x80\\x99re suffering from addiction, know you are not alone. I believe in recovery, and I',\n",
       " 'in recovery, and I celebrate the 23 million Americans in recovery.',\n",
       " 'Second, letâ\\x80\\x99s take on mental health. Especially among our children, whose lives and education',\n",
       " 'lives and education have been turned upside down.',\n",
       " 'The American Rescue Plan gave schools money to hire teachers and help students make up for lost',\n",
       " 'make up for lost learning.',\n",
       " 'I urge every parent to make sure your school does just that. And we can all play a partâ\\x80\\x94sign up',\n",
       " 'a partâ\\x80\\x94sign up to be a tutor or a mentor.',\n",
       " 'Children were also struggling before the pandemic. Bullying, violence, trauma, and the harms of',\n",
       " 'and the harms of social media.',\n",
       " 'As Frances Haugen, who is here with us tonight, has shown, we must hold social media platforms',\n",
       " 'media platforms accountable for the national experiment theyâ\\x80\\x99re conducting on our children for',\n",
       " 'on our children for profit.',\n",
       " 'Itâ\\x80\\x99s time to strengthen privacy protections, ban targeted advertising to children, demand tech',\n",
       " 'demand tech companies stop collecting personal data on our children.',\n",
       " 'And letâ\\x80\\x99s get all Americans the mental health services they need. More people they can turn to',\n",
       " 'they can turn to for help, and full parity between physical and mental health care.',\n",
       " 'Third, support our veterans. \\n\\nVeterans are the best of us.',\n",
       " 'Iâ\\x80\\x99ve always believed that we have a sacred obligation to equip all those we send to war and care',\n",
       " 'to war and care for them and their families when they come home.',\n",
       " 'My administration is providing assistance with job training and housing, and now helping',\n",
       " 'and now helping lower-income veterans get VA care debt-free.',\n",
       " 'Our troops in Iraq and Afghanistan faced many dangers.',\n",
       " 'One was stationed at bases and breathing in toxic smoke from â\\x80\\x9cburn pitsâ\\x80\\x9d that incinerated',\n",
       " 'that incinerated wastes of warâ\\x80\\x94medical and hazard material, jet fuel, and more.',\n",
       " 'When they came home, many of the worldâ\\x80\\x99s fittest and best trained warriors were never the same.',\n",
       " 'Headaches. Numbness. Dizziness. \\n\\nA cancer that would put them in a flag-draped coffin. \\n\\nI know.',\n",
       " 'I know. \\n\\nOne of those soldiers was my son Major Beau Biden.',\n",
       " 'We donâ\\x80\\x99t know for sure if a burn pit was the cause of his brain cancer, or the diseases of so',\n",
       " 'the diseases of so many of our troops.',\n",
       " 'But Iâ\\x80\\x99m committed to finding out everything we can.',\n",
       " 'Committed to military families like Danielle Robinson from Ohio.',\n",
       " 'The widow of Sergeant First Class Heath Robinson.',\n",
       " 'He was born a soldier. Army National Guard. Combat medic in Kosovo and Iraq.',\n",
       " 'Stationed near Baghdad, just yards from burn pits the size of football fields.',\n",
       " 'Heathâ\\x80\\x99s widow Danielle is here with us tonight. They loved going to Ohio State football games. He',\n",
       " 'football games. He loved building Legos with their daughter.',\n",
       " 'But cancer from prolonged exposure to burn pits ravaged Heathâ\\x80\\x99s lungs and body.',\n",
       " 'Danielle says Heath was a fighter to the very end.',\n",
       " 'He didnâ\\x80\\x99t know how to stop fighting, and neither did she.',\n",
       " 'Through her pain she found purpose to demand we do better. \\n\\nTonight, Danielleâ\\x80\\x94we are.',\n",
       " 'The VA is pioneering new ways of linking toxic exposures to diseases, already helping more veterans',\n",
       " 'more veterans get benefits.',\n",
       " 'And tonight, Iâ\\x80\\x99m announcing weâ\\x80\\x99re expanding eligibility to veterans suffering from nine',\n",
       " 'suffering from nine respiratory cancers.',\n",
       " 'Iâ\\x80\\x99m also calling on Congress: pass a law to make sure veterans devastated by toxic exposures in',\n",
       " 'toxic exposures in Iraq and Afghanistan finally get the benefits and comprehensive health care they',\n",
       " 'health care they deserve.',\n",
       " 'And fourth, letâ\\x80\\x99s end cancer as we know it.',\n",
       " 'This is personal to me and Jill, to Kamala, and to so many of you.',\n",
       " 'Cancer is the #2 cause of death in Americaâ\\x80\\x93second only to heart disease.',\n",
       " 'Last month, I announced our plan to supercharge',\n",
       " 'the Cancer Moonshot that President Obama asked me to lead six years ago.',\n",
       " 'Our goal is to cut the cancer death rate by at least 50% over the next 25 years, turn more cancers',\n",
       " 'turn more cancers from death sentences into treatable diseases.',\n",
       " 'More support for patients and families.',\n",
       " 'To get there, I call on Congress to fund ARPA-H, the Advanced Research Projects Agency for Health.',\n",
       " 'Itâ\\x80\\x99s based on DARPAâ\\x80\\x94the Defense Department project that led to the Internet, GPS, and so much',\n",
       " 'GPS, and so much more.',\n",
       " 'ARPA-H will have a singular purposeâ\\x80\\x94to drive breakthroughs in cancer, Alzheimerâ\\x80\\x99s, diabetes,',\n",
       " 'diabetes, and more.',\n",
       " 'A unity agenda for the nation. \\n\\nWe can do this.',\n",
       " 'My fellow Americansâ\\x80\\x94tonight , we have gathered in a sacred spaceâ\\x80\\x94the citadel of our democracy.',\n",
       " 'In this Capitol, generation after generation, Americans have debated great questions amid great',\n",
       " 'amid great strife, and have done great things.',\n",
       " 'We have fought for freedom, expanded liberty, defeated totalitarianism and terror.',\n",
       " 'And built the strongest, freest, and most prosperous nation the world has ever known.',\n",
       " 'Now is the hour. \\n\\nOur moment of responsibility.',\n",
       " 'Our test of resolve and conscience, of history itself.',\n",
       " 'It is in this moment that our character is formed. Our purpose is found. Our future is forged.',\n",
       " 'Well I know this nation.  \\n\\nWe will meet the test.',\n",
       " 'To protect freedom and liberty, to expand fairness and opportunity. \\n\\nWe will save democracy.',\n",
       " 'As hard as these times have been, I am more optimistic about America today than I have been my',\n",
       " 'than I have been my whole life.',\n",
       " 'Because I see the future that is within our grasp.',\n",
       " 'Because I know there is simply nothing beyond our capacity.',\n",
       " 'We are the only nation on Earth that has always turned every crisis we have faced into an',\n",
       " 'have faced into an opportunity.',\n",
       " 'The only nation that can be defined by a single word: possibilities.',\n",
       " 'So on this night, in our 245th year as a nation, I have come to report on the State of the Union.',\n",
       " 'And my report is this: the State of the Union is strongâ\\x80\\x94because you, the American people, are',\n",
       " 'people, are strong.',\n",
       " 'We are stronger today than we were a year ago.',\n",
       " 'And we will be stronger a year from now than we are today.',\n",
       " 'Now is our moment to meet and overcome the challenges of our time. \\n\\nAnd we will, as one people.',\n",
       " 'One America. \\n\\nThe United States of America. \\n\\nMay God bless you all. May God protect our troops.']"
      ]
     },
     "execution_count": 11,
     "metadata": {},
     "output_type": "execute_result"
    }
   ],
   "source": [
    "chunks"
   ]
  },
  {
   "cell_type": "markdown",
   "id": "04d81cec-fc3a-4579-9d9a-e9408251074b",
   "metadata": {},
   "source": [
    "## Watsonx embedding model\n"
   ]
  },
  {
   "cell_type": "markdown",
   "id": "0922b3e8-0d17-41d5-8368-dcb2494342ef",
   "metadata": {},
   "source": [
    "### Model description\n"
   ]
  },
  {
   "cell_type": "markdown",
   "id": "93547d60-4dd0-4ceb-a1d4-493c7ca25ce6",
   "metadata": {},
   "source": [
    "In this section, you will use IBM `slate-125m-english-rtrvr` model as an example embedding model.\n",
    "\n",
    "The slate.125m.english.rtrvr model is a [standard sentence](https://www.sbert.net/) transformers model based on bi-encoders. The model produces an embedding for a given input, e.g., query, passage, document, etc. At a high level, the model is trained to maximize the cosine similarity between two input pieces of text, e.g., text A (query text) and text B (passage text), which results in the sentence embeddings q and p.These sentence embeddings can be compared using cosine similarity, which measures the distance between sentences by calculating the distance between their embeddings.\n"
   ]
  },
  {
   "cell_type": "markdown",
   "id": "8e6e6787-e4fd-4839-a003-7f776d9af2d5",
   "metadata": {},
   "source": [
    "<img src=\"https://cf-courses-data.s3.us.cloud-object-storage.appdomain.cloud/NDCHhZfcC96jggb2hMdJhg/fm-slate-125m-english-rtrvr-cosine.jpg\" width=\"50%\">\n"
   ]
  },
  {
   "cell_type": "markdown",
   "id": "8c90e339-d642-46a2-87ec-c5c5fb0aa88e",
   "metadata": {},
   "source": [
    "### Build model\n"
   ]
  },
  {
   "cell_type": "markdown",
   "id": "0acc2252-1134-48e7-abff-a6da22f8d11c",
   "metadata": {},
   "source": [
    "The following code shows how to build the `slate-125m-english-rtrvr` model from IBM watsonx.ai API.\n"
   ]
  },
  {
   "cell_type": "markdown",
   "id": "0ee9f55c-0ddb-47fd-b129-5df6cb4b5404",
   "metadata": {},
   "source": [
    "First, import the necessary dependencies. \n",
    "- `WatsonxEmbeddings` is a class/dependence that can be used to form an embedding model object.\n",
    "- `EmbedTextParamsMetaNames` is a dependence that controls the embedding parameters.\n"
   ]
  },
  {
   "cell_type": "code",
   "execution_count": 15,
   "id": "a4e8ea38-9c30-4fa9-88a9-27ef752224a3",
   "metadata": {},
   "outputs": [],
   "source": [
    "from ibm_watsonx_ai.metanames import EmbedTextParamsMetaNames\n",
    "from langchain_ibm import WatsonxEmbeddings\n"
   ]
  },
  {
   "cell_type": "code",
   "execution_count": null,
   "id": "3947de79-0d05-4dc2-aaed-ca4d236338f0",
   "metadata": {},
   "outputs": [],
   "source": [
    "embed_params = {\n",
    "    EmbedTextParamsMetaNames.TRUNCATE_INPUT_TOKENS: 3,\n",
    "    EmbedTextParamsMetaNames.RETURN_OPTIONS: {\"input_text\": True},\n",
    "}\n",
    "\n",
    "watsonx_embedding = WatsonxEmbeddings(\n",
    "    model_id=\"ibm/slate-125m-english-rtrvr\",\n",
    "    url=\"https://us-south.ml.cloud.ibm.com\",\n",
    "    project_id=\"skills-network\",\n",
    "    params=embed_params,\n",
    ")"
   ]
  },
  {
   "cell_type": "markdown",
   "id": "5d5996b6-30e3-40a3-abbd-130f09fc4b50",
   "metadata": {},
   "source": [
    "### Query embeddings\n"
   ]
  },
  {
   "cell_type": "markdown",
   "id": "6ec878cf-68d3-45ed-b0bc-daa9c48464ba",
   "metadata": {},
   "source": [
    "Now, create an embedding based on a single sentence, which can be treated as a query.\n"
   ]
  },
  {
   "cell_type": "markdown",
   "id": "9e9a9d47-fc85-426e-b7e6-a14c8db6c8dd",
   "metadata": {},
   "source": [
    "Use the `embed_query` method.\n"
   ]
  },
  {
   "cell_type": "code",
   "execution_count": null,
   "id": "72dc56c9-5d86-4195-985c-8e66be57ad82",
   "metadata": {},
   "outputs": [],
   "source": [
    "query = \"How are you?\"\n",
    "\n",
    "query_result = watsonx_embedding.embed_query(query)"
   ]
  },
  {
   "cell_type": "markdown",
   "id": "5d648405-24d9-4b59-80bf-3eae7a5223eb",
   "metadata": {},
   "source": [
    "Let's see the length/dimension of this embedding.\n"
   ]
  },
  {
   "cell_type": "code",
   "execution_count": null,
   "id": "6fcde75b-bd61-46a1-8ed0-c54e86a507ef",
   "metadata": {},
   "outputs": [],
   "source": [
    "len(query_result)"
   ]
  },
  {
   "cell_type": "markdown",
   "id": "9896e963-676d-488b-84b0-c4b5bd042591",
   "metadata": {},
   "source": [
    "It has a dimension of `768`, which aligns with the model description. \n"
   ]
  },
  {
   "cell_type": "markdown",
   "id": "bb5007a9-2f85-426f-9e05-24753606ffb1",
   "metadata": {},
   "source": [
    "Next, take a look at the first five results from the embeddings.\n"
   ]
  },
  {
   "cell_type": "code",
   "execution_count": null,
   "id": "abd1831b-b258-4239-8cb8-5b0312bbaea2",
   "metadata": {},
   "outputs": [],
   "source": [
    "query_result[:5]"
   ]
  },
  {
   "cell_type": "markdown",
   "id": "001628b4-04a4-4755-b0f4-d4b36b105105",
   "metadata": {},
   "source": [
    "### Document embeddings\n"
   ]
  },
  {
   "cell_type": "markdown",
   "id": "32055593-3288-4f60-ae4c-1eccc79cbafe",
   "metadata": {},
   "source": [
    "After creating the query embeddings, you will be guided on how to create embeddings from documents, which are a list a text chunks.\n"
   ]
  },
  {
   "cell_type": "markdown",
   "id": "97f00b18-99d1-43b8-886c-0bbc630bee35",
   "metadata": {},
   "source": [
    "Use `embed_documents`. The parameter `chunks` should be a list of text. Here, chunks is a list of documents you get from before after splitting the whole document.\n"
   ]
  },
  {
   "cell_type": "code",
   "execution_count": null,
   "id": "f4065ee7-4b8b-49f3-bbd7-c4063c61a8e3",
   "metadata": {},
   "outputs": [],
   "source": [
    "doc_result = watsonx_embedding.embed_documents(chunks)"
   ]
  },
  {
   "cell_type": "markdown",
   "id": "53e216df-3045-4cfd-86e7-8a785af020c3",
   "metadata": {},
   "source": [
    "As each piece of text is embedded into a vector, so the length of the `doc_result` should be the same as the length of chunks.\n"
   ]
  },
  {
   "cell_type": "code",
   "execution_count": null,
   "id": "52645f31-18ff-43c1-bb4e-344fb11b3d8a",
   "metadata": {},
   "outputs": [],
   "source": [
    "len(doc_result)"
   ]
  },
  {
   "cell_type": "markdown",
   "id": "e8b74d14-3f91-4a9d-b86e-ede54d7b18b0",
   "metadata": {},
   "source": [
    "Now, take a look at the first five results from the embeddings of the first piece of text.\n"
   ]
  },
  {
   "cell_type": "code",
   "execution_count": null,
   "id": "4b02bb49-271e-4674-9b5c-4a719dfd7bf7",
   "metadata": {},
   "outputs": [],
   "source": [
    "doc_result[0][:5]"
   ]
  },
  {
   "cell_type": "markdown",
   "id": "d14f0a40-0ad8-460f-a07b-f6c391adc280",
   "metadata": {},
   "source": [
    "Check the embedding dimension to see if it is also 768.\n"
   ]
  },
  {
   "cell_type": "code",
   "execution_count": null,
   "id": "0f8b21e0-cd29-4c2d-8030-e1b5c614291a",
   "metadata": {},
   "outputs": [],
   "source": [
    "len(doc_result[0])"
   ]
  },
  {
   "cell_type": "markdown",
   "id": "206f1ecf-38ab-47eb-a701-467bd02d580e",
   "metadata": {},
   "source": [
    "## Hugging Face embedding model\n"
   ]
  },
  {
   "cell_type": "markdown",
   "id": "271b5a61-36c8-49f4-b3ee-8f9762c3f1d9",
   "metadata": {},
   "source": [
    "### Model description\n"
   ]
  },
  {
   "cell_type": "markdown",
   "id": "14989148-0636-40c6-8362-478158636c32",
   "metadata": {},
   "source": [
    "In this section, you will use the `all-mpnet-base-v2` from HuggingFace as an example embedding model.\n",
    "\n",
    "It is a sentence-transformers model. It maps sentences and paragraphs to a 768-dimensional dense vector space and can be used for tasks like clustering or semantic search. It used the pre-trained `Microsoft/money-base` model and fine-tuned it on a 1B sentence pairs dataset. For more information, please refer to [here](https://huggingface.co/sentence-transformers/all-mpnet-base-v2).\n"
   ]
  },
  {
   "cell_type": "markdown",
   "id": "ceb71e30-6801-4188-80b4-d08032723820",
   "metadata": {},
   "source": [
    "### Build model\n"
   ]
  },
  {
   "cell_type": "markdown",
   "id": "47044ce2-277e-42aa-9b10-cae338f5b6bf",
   "metadata": {},
   "source": [
    "To build the model, you need to import the `HuggingFaceEmbeddings` dependence first.\n"
   ]
  },
  {
   "cell_type": "code",
   "execution_count": 16,
   "id": "c8c0191e-4f42-4777-b404-2f0e32aab34a",
   "metadata": {},
   "outputs": [],
   "source": [
    "from langchain_community.embeddings import HuggingFaceEmbeddings"
   ]
  },
  {
   "cell_type": "markdown",
   "id": "895c58b1-8a56-4f76-a586-c64c5680ed18",
   "metadata": {},
   "source": [
    "Then, you specify the model name.\n"
   ]
  },
  {
   "cell_type": "code",
   "execution_count": 17,
   "id": "f47f40b7-0a7e-4e17-8ea3-eafbc0301e07",
   "metadata": {},
   "outputs": [],
   "source": [
    "model_name = \"sentence-transformers/all-mpnet-base-v2\""
   ]
  },
  {
   "cell_type": "markdown",
   "id": "39927407-5834-4dd1-b245-92d4f69956fd",
   "metadata": {},
   "source": [
    "Here we create a embedding model object.\n"
   ]
  },
  {
   "cell_type": "code",
   "execution_count": 18,
   "id": "a2ec9142-c3cd-4a2a-9b99-e1615101c524",
   "metadata": {},
   "outputs": [
    {
     "name": "stderr",
     "output_type": "stream",
     "text": [
      "c:\\Users\\Dev\\AppData\\Local\\Programs\\Python\\Python313\\Lib\\site-packages\\langchain_core\\_api\\deprecation.py:139: LangChainDeprecationWarning: The class `HuggingFaceEmbeddings` was deprecated in LangChain 0.2.2 and will be removed in 1.0. An updated version of the class exists in the langchain-huggingface package and should be used instead. To use it run `pip install -U langchain-huggingface` and import as `from langchain_huggingface import HuggingFaceEmbeddings`.\n",
      "  warn_deprecated(\n"
     ]
    },
    {
     "ename": "ImportError",
     "evalue": "Could not import sentence_transformers python package. Please install it with `pip install sentence-transformers`.",
     "output_type": "error",
     "traceback": [
      "\u001b[1;31m---------------------------------------------------------------------------\u001b[0m",
      "\u001b[1;31mModuleNotFoundError\u001b[0m                       Traceback (most recent call last)",
      "File \u001b[1;32mc:\\Users\\Dev\\AppData\\Local\\Programs\\Python\\Python313\\Lib\\site-packages\\langchain_community\\embeddings\\huggingface.py:84\u001b[0m, in \u001b[0;36mHuggingFaceEmbeddings.__init__\u001b[1;34m(self, **kwargs)\u001b[0m\n\u001b[0;32m     83\u001b[0m \u001b[38;5;28;01mtry\u001b[39;00m:\n\u001b[1;32m---> 84\u001b[0m     \u001b[38;5;28;01mimport\u001b[39;00m\u001b[38;5;250m \u001b[39m\u001b[38;5;21;01msentence_transformers\u001b[39;00m\n\u001b[0;32m     86\u001b[0m \u001b[38;5;28;01mexcept\u001b[39;00m \u001b[38;5;167;01mImportError\u001b[39;00m \u001b[38;5;28;01mas\u001b[39;00m exc:\n",
      "\u001b[1;31mModuleNotFoundError\u001b[0m: No module named 'sentence_transformers'",
      "\nThe above exception was the direct cause of the following exception:\n",
      "\u001b[1;31mImportError\u001b[0m                               Traceback (most recent call last)",
      "Cell \u001b[1;32mIn[18], line 1\u001b[0m\n\u001b[1;32m----> 1\u001b[0m huggingface_embedding \u001b[38;5;241m=\u001b[39m \u001b[43mHuggingFaceEmbeddings\u001b[49m\u001b[43m(\u001b[49m\u001b[43mmodel_name\u001b[49m\u001b[38;5;241;43m=\u001b[39;49m\u001b[43mmodel_name\u001b[49m\u001b[43m)\u001b[49m\n",
      "File \u001b[1;32mc:\\Users\\Dev\\AppData\\Local\\Programs\\Python\\Python313\\Lib\\site-packages\\langchain_core\\_api\\deprecation.py:203\u001b[0m, in \u001b[0;36mdeprecated.<locals>.deprecate.<locals>.finalize.<locals>.warn_if_direct_instance\u001b[1;34m(self, *args, **kwargs)\u001b[0m\n\u001b[0;32m    201\u001b[0m     warned \u001b[38;5;241m=\u001b[39m \u001b[38;5;28;01mTrue\u001b[39;00m\n\u001b[0;32m    202\u001b[0m     emit_warning()\n\u001b[1;32m--> 203\u001b[0m \u001b[38;5;28;01mreturn\u001b[39;00m \u001b[43mwrapped\u001b[49m\u001b[43m(\u001b[49m\u001b[38;5;28;43mself\u001b[39;49m\u001b[43m,\u001b[49m\u001b[43m \u001b[49m\u001b[38;5;241;43m*\u001b[39;49m\u001b[43margs\u001b[49m\u001b[43m,\u001b[49m\u001b[43m \u001b[49m\u001b[38;5;241;43m*\u001b[39;49m\u001b[38;5;241;43m*\u001b[39;49m\u001b[43mkwargs\u001b[49m\u001b[43m)\u001b[49m\n",
      "File \u001b[1;32mc:\\Users\\Dev\\AppData\\Local\\Programs\\Python\\Python313\\Lib\\site-packages\\langchain_community\\embeddings\\huggingface.py:87\u001b[0m, in \u001b[0;36mHuggingFaceEmbeddings.__init__\u001b[1;34m(self, **kwargs)\u001b[0m\n\u001b[0;32m     84\u001b[0m     \u001b[38;5;28;01mimport\u001b[39;00m\u001b[38;5;250m \u001b[39m\u001b[38;5;21;01msentence_transformers\u001b[39;00m\n\u001b[0;32m     86\u001b[0m \u001b[38;5;28;01mexcept\u001b[39;00m \u001b[38;5;167;01mImportError\u001b[39;00m \u001b[38;5;28;01mas\u001b[39;00m exc:\n\u001b[1;32m---> 87\u001b[0m     \u001b[38;5;28;01mraise\u001b[39;00m \u001b[38;5;167;01mImportError\u001b[39;00m(\n\u001b[0;32m     88\u001b[0m         \u001b[38;5;124m\"\u001b[39m\u001b[38;5;124mCould not import sentence_transformers python package. \u001b[39m\u001b[38;5;124m\"\u001b[39m\n\u001b[0;32m     89\u001b[0m         \u001b[38;5;124m\"\u001b[39m\u001b[38;5;124mPlease install it with `pip install sentence-transformers`.\u001b[39m\u001b[38;5;124m\"\u001b[39m\n\u001b[0;32m     90\u001b[0m     ) \u001b[38;5;28;01mfrom\u001b[39;00m\u001b[38;5;250m \u001b[39m\u001b[38;5;21;01mexc\u001b[39;00m\n\u001b[0;32m     92\u001b[0m \u001b[38;5;28mself\u001b[39m\u001b[38;5;241m.\u001b[39mclient \u001b[38;5;241m=\u001b[39m sentence_transformers\u001b[38;5;241m.\u001b[39mSentenceTransformer(\n\u001b[0;32m     93\u001b[0m     \u001b[38;5;28mself\u001b[39m\u001b[38;5;241m.\u001b[39mmodel_name, cache_folder\u001b[38;5;241m=\u001b[39m\u001b[38;5;28mself\u001b[39m\u001b[38;5;241m.\u001b[39mcache_folder, \u001b[38;5;241m*\u001b[39m\u001b[38;5;241m*\u001b[39m\u001b[38;5;28mself\u001b[39m\u001b[38;5;241m.\u001b[39mmodel_kwargs\n\u001b[0;32m     94\u001b[0m )\n",
      "\u001b[1;31mImportError\u001b[0m: Could not import sentence_transformers python package. Please install it with `pip install sentence-transformers`."
     ]
    }
   ],
   "source": [
    "huggingface_embedding = HuggingFaceEmbeddings(model_name=model_name)"
   ]
  },
  {
   "cell_type": "markdown",
   "id": "a67e57d1-9b95-496d-b4fe-eee358bb8f20",
   "metadata": {},
   "source": [
    "### Query embeddings\n"
   ]
  },
  {
   "cell_type": "markdown",
   "id": "2e57b157-e6e7-4682-b6ea-cedd782c8146",
   "metadata": {},
   "source": [
    "Let's create the embeddings from the same sentence, but using the Hugging Face embedding model. \n"
   ]
  },
  {
   "cell_type": "code",
   "execution_count": null,
   "id": "30573dfe-1eab-4a72-990d-15e31c982280",
   "metadata": {},
   "outputs": [],
   "source": [
    "query = \"How are you?\""
   ]
  },
  {
   "cell_type": "code",
   "execution_count": null,
   "id": "ef681381-7c5e-4f93-850a-30d301e626cd",
   "metadata": {},
   "outputs": [],
   "source": [
    "query_result = huggingface_embedding.embed_query(query)"
   ]
  },
  {
   "cell_type": "code",
   "execution_count": null,
   "id": "968e5312-b8a0-40c6-80ab-5538090a06f0",
   "metadata": {},
   "outputs": [],
   "source": [
    "query_result[:5]"
   ]
  },
  {
   "cell_type": "markdown",
   "id": "a250da57-4d77-449c-a1b2-a50e55ba8c9a",
   "metadata": {},
   "source": [
    "Do you see the differences between embeddings that are created by the watsonx embedding model and the Hugging Face embedding model?\n"
   ]
  },
  {
   "cell_type": "markdown",
   "id": "d60a9657-fbaf-4aa6-98a9-0d994f16f0a3",
   "metadata": {},
   "source": [
    "### Document embeddings\n"
   ]
  },
  {
   "cell_type": "markdown",
   "id": "17584b36-7690-4971-8eed-ccc18b1cc1bd",
   "metadata": {},
   "source": [
    "Next, you can do the same for creating embeddings from documents.\n"
   ]
  },
  {
   "cell_type": "code",
   "execution_count": null,
   "id": "789fbc19-292f-4f73-a0df-066695fdfc3c",
   "metadata": {},
   "outputs": [],
   "source": [
    "doc_result = huggingface_embedding.embed_documents(chunks)\n",
    "doc_result[0][:5]"
   ]
  },
  {
   "cell_type": "code",
   "execution_count": null,
   "id": "64f57a3f-c615-47fb-a393-1c3ff8de4cfb",
   "metadata": {},
   "outputs": [],
   "source": [
    "len(doc_result[0])"
   ]
  },
  {
   "cell_type": "markdown",
   "id": "bd9907f0-1857-45e6-9960-9c68e7f7a274",
   "metadata": {},
   "source": [
    "```{## Change Log}\n",
    "```\n"
   ]
  }
 ],
 "metadata": {
  "kernelspec": {
   "display_name": "Python 3",
   "language": "python",
   "name": "python3"
  },
  "language_info": {
   "codemirror_mode": {
    "name": "ipython",
    "version": 3
   },
   "file_extension": ".py",
   "mimetype": "text/x-python",
   "name": "python",
   "nbconvert_exporter": "python",
   "pygments_lexer": "ipython3",
   "version": "3.13.2"
  },
  "prev_pub_hash": "c4a251baa4de990ee5c93ac6e39cfdeabe06fbe6970691eb1edf0e548b4ebc03"
 },
 "nbformat": 4,
 "nbformat_minor": 4
}
